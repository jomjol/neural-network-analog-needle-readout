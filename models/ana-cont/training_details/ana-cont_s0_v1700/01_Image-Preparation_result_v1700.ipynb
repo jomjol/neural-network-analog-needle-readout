{
 "cells": [
  {
   "cell_type": "markdown",
   "id": "e6a7fdae",
   "metadata": {
    "papermill": {
     "duration": 0.002112,
     "end_time": "2025-05-04T05:35:23.837877",
     "exception": false,
     "start_time": "2025-05-04T05:35:23.835765",
     "status": "completed"
    },
    "tags": []
   },
   "source": [
    "## Image preparation\n",
    "\n",
    "The below code can be used to transform the images in an input directory (Input_Dir) \n",
    "to the right size (e.g. 32x32 pixels) into an output directory (Output_Dir).\n",
    "\n",
    "### Note\n",
    "Duplicates will be removed by evaluating the file hash"
   ]
  },
  {
   "cell_type": "markdown",
   "id": "49fce920",
   "metadata": {
    "papermill": {
     "duration": 0.001408,
     "end_time": "2025-05-04T05:35:23.841137",
     "exception": false,
     "start_time": "2025-05-04T05:35:23.839729",
     "status": "completed"
    },
    "tags": []
   },
   "source": [
    "### Basic Parameter"
   ]
  },
  {
   "cell_type": "code",
   "execution_count": 1,
   "id": "c472bcfd",
   "metadata": {
    "execution": {
     "iopub.execute_input": "2025-05-04T05:35:23.845528Z",
     "iopub.status.busy": "2025-05-04T05:35:23.845032Z",
     "iopub.status.idle": "2025-05-04T05:35:23.850719Z",
     "shell.execute_reply": "2025-05-04T05:35:23.850149Z"
    },
    "papermill": {
     "duration": 0.008997,
     "end_time": "2025-05-04T05:35:23.851702",
     "exception": false,
     "start_time": "2025-05-04T05:35:23.842705",
     "status": "completed"
    },
    "tags": [
     "parameters"
    ]
   },
   "outputs": [],
   "source": [
    "# Parameters\n",
    "Input_Dir = 'data_raw_all'\n",
    "Output_Dir = 'data_resize_all'\n",
    "\n",
    "# Target image size\n",
    "target_size_x = 32\n",
    "target_size_y = 32"
   ]
  },
  {
   "cell_type": "code",
   "execution_count": 2,
   "id": "f7418492",
   "metadata": {
    "execution": {
     "iopub.execute_input": "2025-05-04T05:35:23.855695Z",
     "iopub.status.busy": "2025-05-04T05:35:23.855364Z",
     "iopub.status.idle": "2025-05-04T05:35:23.858061Z",
     "shell.execute_reply": "2025-05-04T05:35:23.857506Z"
    },
    "papermill": {
     "duration": 0.005572,
     "end_time": "2025-05-04T05:35:23.858961",
     "exception": false,
     "start_time": "2025-05-04T05:35:23.853389",
     "status": "completed"
    },
    "tags": [
     "injected-parameters"
    ]
   },
   "outputs": [],
   "source": [
    "# Parameters\n",
    "Input_Dir = \"data_raw_all\"\n",
    "Output_Dir = \"data_resize_all\"\n"
   ]
  },
  {
   "cell_type": "markdown",
   "id": "1e81693d",
   "metadata": {
    "papermill": {
     "duration": 0.001471,
     "end_time": "2025-05-04T05:35:23.862071",
     "exception": false,
     "start_time": "2025-05-04T05:35:23.860600",
     "status": "completed"
    },
    "tags": []
   },
   "source": [
    "### Load libraries and defaults"
   ]
  },
  {
   "cell_type": "code",
   "execution_count": 3,
   "id": "af945b7d",
   "metadata": {
    "execution": {
     "iopub.execute_input": "2025-05-04T05:35:23.865982Z",
     "iopub.status.busy": "2025-05-04T05:35:23.865664Z",
     "iopub.status.idle": "2025-05-04T05:35:23.896483Z",
     "shell.execute_reply": "2025-05-04T05:35:23.895888Z"
    },
    "papermill": {
     "duration": 0.033768,
     "end_time": "2025-05-04T05:35:23.897445",
     "exception": false,
     "start_time": "2025-05-04T05:35:23.863677",
     "status": "completed"
    },
    "tags": []
   },
   "outputs": [],
   "source": [
    "import glob\n",
    "import os\n",
    "from pathlib import Path\n",
    "\n",
    "from PIL import Image\n"
   ]
  },
  {
   "cell_type": "markdown",
   "id": "4efd9ed2",
   "metadata": {
    "papermill": {
     "duration": 0.001508,
     "end_time": "2025-05-04T05:35:23.900598",
     "exception": false,
     "start_time": "2025-05-04T05:35:23.899090",
     "status": "completed"
    },
    "tags": []
   },
   "source": [
    "### Delete output directory"
   ]
  },
  {
   "cell_type": "code",
   "execution_count": 4,
   "id": "863be47c",
   "metadata": {
    "execution": {
     "iopub.execute_input": "2025-05-04T05:35:23.904570Z",
     "iopub.status.busy": "2025-05-04T05:35:23.904170Z",
     "iopub.status.idle": "2025-05-04T05:35:23.907934Z",
     "shell.execute_reply": "2025-05-04T05:35:23.907483Z"
    },
    "papermill": {
     "duration": 0.006561,
     "end_time": "2025-05-04T05:35:23.908763",
     "exception": false,
     "start_time": "2025-05-04T05:35:23.902202",
     "status": "completed"
    },
    "tags": []
   },
   "outputs": [
    {
     "name": "stdout",
     "output_type": "stream",
     "text": [
      "0 files have been deleted.\n"
     ]
    }
   ],
   "source": [
    "files = glob.glob(Output_Dir + '/*.jpg')\n",
    "for f in files:\n",
    "    os.remove(f)\n",
    "print(str(len(files)) + \" files have been deleted.\")"
   ]
  },
  {
   "cell_type": "markdown",
   "id": "04939c8b",
   "metadata": {
    "papermill": {
     "duration": 0.002433,
     "end_time": "2025-05-04T05:35:23.912986",
     "exception": false,
     "start_time": "2025-05-04T05:35:23.910553",
     "status": "completed"
    },
    "tags": []
   },
   "source": [
    "### Load files and resize"
   ]
  },
  {
   "cell_type": "code",
   "execution_count": 5,
   "id": "83f24126",
   "metadata": {
    "execution": {
     "iopub.execute_input": "2025-05-04T05:35:23.917235Z",
     "iopub.status.busy": "2025-05-04T05:35:23.916861Z",
     "iopub.status.idle": "2025-05-04T05:35:24.884599Z",
     "shell.execute_reply": "2025-05-04T05:35:24.883911Z"
    },
    "papermill": {
     "duration": 0.970821,
     "end_time": "2025-05-04T05:35:24.885527",
     "exception": false,
     "start_time": "2025-05-04T05:35:23.914706",
     "status": "completed"
    },
    "tags": []
   },
   "outputs": [
    {
     "name": "stdout",
     "output_type": "stream",
     "text": [
      "0 data_raw_all/5.6_1f48d6bd3fc40354b9253b4352c4c554.jpg\n"
     ]
    },
    {
     "name": "stdout",
     "output_type": "stream",
     "text": [
      "500 data_raw_all/6.6_32f8960168ad68dd0ce3eb6e9365fa1b.jpg\n"
     ]
    },
    {
     "name": "stdout",
     "output_type": "stream",
     "text": [
      "1000 data_raw_all/7.1.jpg\n"
     ]
    },
    {
     "name": "stdout",
     "output_type": "stream",
     "text": [
      "1500 data_raw_all/0.0_e0941e6e3c5bf5a31d46bc38cb65648f.jpg\n"
     ]
    }
   ],
   "source": [
    "import hashlib\n",
    "\n",
    "files = glob.glob(Input_Dir + '/*.jpg')\n",
    "hashes={}\n",
    "for i,aktfile in enumerate(files):\n",
    "    if i%500==0:\n",
    "        print(i, aktfile)\n",
    "    test_image = Image.open(aktfile)\n",
    "    hash=hashlib.sha256(test_image.tobytes()).hexdigest()\n",
    "    if hash in hashes:\n",
    "        hashes[hash].append(aktfile)\n",
    "    else:\n",
    "        hashes[hash]=[aktfile]\n",
    "    test_image = test_image.resize((target_size_x, target_size_y), Image.LANCZOS)\n",
    "    base=os.path.basename(aktfile)\n",
    "    save_name = Output_Dir + '/' + base\n",
    "    test_image.save(save_name, \"JPEG\", quality = 100)"
   ]
  },
  {
   "cell_type": "markdown",
   "id": "1f2e9164",
   "metadata": {
    "papermill": {
     "duration": 0.001941,
     "end_time": "2025-05-04T05:35:24.889756",
     "exception": false,
     "start_time": "2025-05-04T05:35:24.887815",
     "status": "completed"
    },
    "tags": []
   },
   "source": [
    "### Remove duplicate files"
   ]
  },
  {
   "cell_type": "code",
   "execution_count": 6,
   "id": "3fd4bcfb",
   "metadata": {
    "execution": {
     "iopub.execute_input": "2025-05-04T05:35:24.894279Z",
     "iopub.status.busy": "2025-05-04T05:35:24.894101Z",
     "iopub.status.idle": "2025-05-04T05:35:24.897666Z",
     "shell.execute_reply": "2025-05-04T05:35:24.897172Z"
    },
    "papermill": {
     "duration": 0.006836,
     "end_time": "2025-05-04T05:35:24.898501",
     "exception": false,
     "start_time": "2025-05-04T05:35:24.891665",
     "status": "completed"
    },
    "tags": []
   },
   "outputs": [],
   "source": [
    "# duplicate files are a risk to the metrics, they pollute the validation dataset\n",
    "for hash in hashes:\n",
    "    if len(hashes[hash])>1:\n",
    "        print(hashes[hash])    \n",
    "        for duplicate in hashes[hash][1:]:\n",
    "            # remove all except the first\n",
    "            os.remove(duplicate)    "
   ]
  }
 ],
 "metadata": {
  "kernelspec": {
   "display_name": "tflite2",
   "language": "python",
   "name": "python3"
  },
  "language_info": {
   "codemirror_mode": {
    "name": "ipython",
    "version": 3
   },
   "file_extension": ".py",
   "mimetype": "text/x-python",
   "name": "python",
   "nbconvert_exporter": "python",
   "pygments_lexer": "ipython3",
   "version": "3.11.12"
  },
  "papermill": {
   "default_parameters": {},
   "duration": 2.115421,
   "end_time": "2025-05-04T05:35:25.015564",
   "environment_variables": {},
   "exception": null,
   "input_path": "01_Image-Preparation.ipynb",
   "output_path": "models_tmp/01_Image-Preparation_result_v1700.ipynb",
   "parameters": {
    "Input_Dir": "data_raw_all",
    "Output_Dir": "data_resize_all"
   },
   "start_time": "2025-05-04T05:35:22.900143",
   "version": "2.6.0"
  }
 },
 "nbformat": 4,
 "nbformat_minor": 5
}