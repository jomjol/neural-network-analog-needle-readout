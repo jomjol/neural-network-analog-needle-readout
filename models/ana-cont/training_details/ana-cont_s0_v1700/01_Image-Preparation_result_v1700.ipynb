{
 "cells": [
  {
   "cell_type": "markdown",
   "id": "30607219",
   "metadata": {
    "papermill": {
     "duration": 0.002198,
     "end_time": "2025-05-03T12:10:45.821731",
     "exception": false,
     "start_time": "2025-05-03T12:10:45.819533",
     "status": "completed"
    },
    "tags": []
   },
   "source": [
    "## Image preparation\n",
    "\n",
    "The below code can be used to transform the images in an input directory (Input_Dir) \n",
    "to the right size (e.g. 32x32 pixels) into an output directory (Output_Dir).\n",
    "\n",
    "### Note\n",
    "Duplicates will be removed by evaluating the file hash"
   ]
  },
  {
   "cell_type": "markdown",
   "id": "99c2ee98",
   "metadata": {
    "papermill": {
     "duration": 0.001458,
     "end_time": "2025-05-03T12:10:45.825084",
     "exception": false,
     "start_time": "2025-05-03T12:10:45.823626",
     "status": "completed"
    },
    "tags": []
   },
   "source": [
    "### Basic Parameter"
   ]
  },
  {
   "cell_type": "code",
   "execution_count": 1,
   "id": "8f705b8b",
   "metadata": {
    "execution": {
     "iopub.execute_input": "2025-05-03T12:10:45.829453Z",
     "iopub.status.busy": "2025-05-03T12:10:45.829013Z",
     "iopub.status.idle": "2025-05-03T12:10:45.834749Z",
     "shell.execute_reply": "2025-05-03T12:10:45.834160Z"
    },
    "papermill": {
     "duration": 0.009046,
     "end_time": "2025-05-03T12:10:45.835759",
     "exception": false,
     "start_time": "2025-05-03T12:10:45.826713",
     "status": "completed"
    },
    "tags": [
     "parameters"
    ]
   },
   "outputs": [],
   "source": [
    "# Parameters\n",
    "Input_Dir = 'data_raw_all'\n",
    "Output_Dir = 'data_resize_all'\n",
    "\n",
    "# Target image size\n",
    "target_size_x = 32\n",
    "target_size_y = 32"
   ]
  },
  {
   "cell_type": "code",
   "execution_count": 2,
   "id": "f8462cf8",
   "metadata": {
    "execution": {
     "iopub.execute_input": "2025-05-03T12:10:45.839814Z",
     "iopub.status.busy": "2025-05-03T12:10:45.839477Z",
     "iopub.status.idle": "2025-05-03T12:10:45.841964Z",
     "shell.execute_reply": "2025-05-03T12:10:45.841536Z"
    },
    "papermill": {
     "duration": 0.005341,
     "end_time": "2025-05-03T12:10:45.842809",
     "exception": false,
     "start_time": "2025-05-03T12:10:45.837468",
     "status": "completed"
    },
    "tags": [
     "injected-parameters"
    ]
   },
   "outputs": [],
   "source": [
    "# Parameters\n",
    "Input_Dir = \"data_raw_all\"\n",
    "Output_Dir = \"data_resize_all\"\n"
   ]
  },
  {
   "cell_type": "markdown",
   "id": "46ab4215",
   "metadata": {
    "papermill": {
     "duration": 0.001492,
     "end_time": "2025-05-03T12:10:45.846002",
     "exception": false,
     "start_time": "2025-05-03T12:10:45.844510",
     "status": "completed"
    },
    "tags": []
   },
   "source": [
    "### Load libraries and defaults"
   ]
  },
  {
   "cell_type": "code",
   "execution_count": 3,
   "id": "ea8d061b",
   "metadata": {
    "execution": {
     "iopub.execute_input": "2025-05-03T12:10:45.850077Z",
     "iopub.status.busy": "2025-05-03T12:10:45.849706Z",
     "iopub.status.idle": "2025-05-03T12:10:45.903354Z",
     "shell.execute_reply": "2025-05-03T12:10:45.902881Z"
    },
    "papermill": {
     "duration": 0.056624,
     "end_time": "2025-05-03T12:10:45.904251",
     "exception": false,
     "start_time": "2025-05-03T12:10:45.847627",
     "status": "completed"
    },
    "tags": []
   },
   "outputs": [],
   "source": [
    "import glob\n",
    "import os\n",
    "from pathlib import Path\n",
    "\n",
    "from PIL import Image\n"
   ]
  },
  {
   "cell_type": "markdown",
   "id": "ba08ac41",
   "metadata": {
    "papermill": {
     "duration": 0.001521,
     "end_time": "2025-05-03T12:10:45.907463",
     "exception": false,
     "start_time": "2025-05-03T12:10:45.905942",
     "status": "completed"
    },
    "tags": []
   },
   "source": [
    "### Delete output directory"
   ]
  },
  {
   "cell_type": "code",
   "execution_count": 4,
   "id": "0645c976",
   "metadata": {
    "execution": {
     "iopub.execute_input": "2025-05-03T12:10:45.911527Z",
     "iopub.status.busy": "2025-05-03T12:10:45.911146Z",
     "iopub.status.idle": "2025-05-03T12:10:45.915124Z",
     "shell.execute_reply": "2025-05-03T12:10:45.914656Z"
    },
    "papermill": {
     "duration": 0.006922,
     "end_time": "2025-05-03T12:10:45.916000",
     "exception": false,
     "start_time": "2025-05-03T12:10:45.909078",
     "status": "completed"
    },
    "tags": []
   },
   "outputs": [
    {
     "name": "stdout",
     "output_type": "stream",
     "text": [
      "0 files have been deleted.\n"
     ]
    }
   ],
   "source": [
    "files = glob.glob(Output_Dir + '/*.jpg')\n",
    "for f in files:\n",
    "    os.remove(f)\n",
    "print(str(len(files)) + \" files have been deleted.\")"
   ]
  },
  {
   "cell_type": "markdown",
   "id": "2c0abf2b",
   "metadata": {
    "papermill": {
     "duration": 0.002472,
     "end_time": "2025-05-03T12:10:45.920299",
     "exception": false,
     "start_time": "2025-05-03T12:10:45.917827",
     "status": "completed"
    },
    "tags": []
   },
   "source": [
    "### Load files and resize"
   ]
  },
  {
   "cell_type": "code",
   "execution_count": 5,
   "id": "d78ac284",
   "metadata": {
    "execution": {
     "iopub.execute_input": "2025-05-03T12:10:45.924535Z",
     "iopub.status.busy": "2025-05-03T12:10:45.924169Z",
     "iopub.status.idle": "2025-05-03T12:10:46.894644Z",
     "shell.execute_reply": "2025-05-03T12:10:46.894072Z"
    },
    "papermill": {
     "duration": 0.973516,
     "end_time": "2025-05-03T12:10:46.895503",
     "exception": false,
     "start_time": "2025-05-03T12:10:45.921987",
     "status": "completed"
    },
    "tags": []
   },
   "outputs": [
    {
     "name": "stdout",
     "output_type": "stream",
     "text": [
      "0 data_raw_all/5.6_1f48d6bd3fc40354b9253b4352c4c554.jpg\n"
     ]
    },
    {
     "name": "stdout",
     "output_type": "stream",
     "text": [
      "500 data_raw_all/6.6_32f8960168ad68dd0ce3eb6e9365fa1b.jpg\n"
     ]
    },
    {
     "name": "stdout",
     "output_type": "stream",
     "text": [
      "1000 data_raw_all/3.8_1884_zeiger4_2019-06-04T110009.jpg\n"
     ]
    },
    {
     "name": "stdout",
     "output_type": "stream",
     "text": [
      "1500 data_raw_all/0.0_e0941e6e3c5bf5a31d46bc38cb65648f.jpg\n"
     ]
    }
   ],
   "source": [
    "import hashlib\n",
    "\n",
    "files = glob.glob(Input_Dir + '/*.jpg')\n",
    "hashes={}\n",
    "for i,aktfile in enumerate(files):\n",
    "    if i%500==0:\n",
    "        print(i, aktfile)\n",
    "    test_image = Image.open(aktfile)\n",
    "    hash=hashlib.sha256(test_image.tobytes()).hexdigest()\n",
    "    if hash in hashes:\n",
    "        hashes[hash].append(aktfile)\n",
    "    else:\n",
    "        hashes[hash]=[aktfile]\n",
    "    test_image = test_image.resize((target_size_x, target_size_y), Image.LANCZOS)\n",
    "    base=os.path.basename(aktfile)\n",
    "    save_name = Output_Dir + '/' + base\n",
    "    test_image.save(save_name, \"JPEG\", quality = 100)"
   ]
  },
  {
   "cell_type": "markdown",
   "id": "bdcb46ca",
   "metadata": {
    "papermill": {
     "duration": 0.001741,
     "end_time": "2025-05-03T12:10:46.899499",
     "exception": false,
     "start_time": "2025-05-03T12:10:46.897758",
     "status": "completed"
    },
    "tags": []
   },
   "source": [
    "### Remove duplicate files"
   ]
  },
  {
   "cell_type": "code",
   "execution_count": 6,
   "id": "6a25e66c",
   "metadata": {
    "execution": {
     "iopub.execute_input": "2025-05-03T12:10:46.904131Z",
     "iopub.status.busy": "2025-05-03T12:10:46.903779Z",
     "iopub.status.idle": "2025-05-03T12:10:46.907060Z",
     "shell.execute_reply": "2025-05-03T12:10:46.906626Z"
    },
    "papermill": {
     "duration": 0.006501,
     "end_time": "2025-05-03T12:10:46.907870",
     "exception": false,
     "start_time": "2025-05-03T12:10:46.901369",
     "status": "completed"
    },
    "tags": []
   },
   "outputs": [],
   "source": [
    "# duplicate files are a risk to the metrics, they pollute the validation dataset\n",
    "for hash in hashes:\n",
    "    if len(hashes[hash])>1:\n",
    "        print(hashes[hash])    \n",
    "        for duplicate in hashes[hash][1:]:\n",
    "            # remove all except the first\n",
    "            os.remove(duplicate)    "
   ]
  }
 ],
 "metadata": {
  "kernelspec": {
   "display_name": "tflite2",
   "language": "python",
   "name": "python3"
  },
  "language_info": {
   "codemirror_mode": {
    "name": "ipython",
    "version": 3
   },
   "file_extension": ".py",
   "mimetype": "text/x-python",
   "name": "python",
   "nbconvert_exporter": "python",
   "pygments_lexer": "ipython3",
   "version": "3.11.12"
  },
  "papermill": {
   "default_parameters": {},
   "duration": 2.513164,
   "end_time": "2025-05-03T12:10:47.024348",
   "environment_variables": {},
   "exception": null,
   "input_path": "01_Image-Preparation.ipynb",
   "output_path": "models_tmp/01_Image-Preparation_result_v1700.ipynb",
   "parameters": {
    "Input_Dir": "data_raw_all",
    "Output_Dir": "data_resize_all"
   },
   "start_time": "2025-05-03T12:10:44.511184",
   "version": "2.6.0"
  }
 },
 "nbformat": 4,
 "nbformat_minor": 5
}