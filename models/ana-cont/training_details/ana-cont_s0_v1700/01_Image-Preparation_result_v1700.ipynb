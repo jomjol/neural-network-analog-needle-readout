{
 "cells": [
  {
   "cell_type": "markdown",
   "id": "c46812dc",
   "metadata": {
    "papermill": {
     "duration": 0.002045,
     "end_time": "2025-05-03T13:48:21.798839",
     "exception": false,
     "start_time": "2025-05-03T13:48:21.796794",
     "status": "completed"
    },
    "tags": []
   },
   "source": [
    "## Image preparation\n",
    "\n",
    "The below code can be used to transform the images in an input directory (Input_Dir) \n",
    "to the right size (e.g. 32x32 pixels) into an output directory (Output_Dir).\n",
    "\n",
    "### Note\n",
    "Duplicates will be removed by evaluating the file hash"
   ]
  },
  {
   "cell_type": "markdown",
   "id": "b2eb221f",
   "metadata": {
    "papermill": {
     "duration": 0.001518,
     "end_time": "2025-05-03T13:48:21.802173",
     "exception": false,
     "start_time": "2025-05-03T13:48:21.800655",
     "status": "completed"
    },
    "tags": []
   },
   "source": [
    "### Basic Parameter"
   ]
  },
  {
   "cell_type": "code",
   "execution_count": 1,
   "id": "d2c8bbbd",
   "metadata": {
    "execution": {
     "iopub.execute_input": "2025-05-03T13:48:21.806270Z",
     "iopub.status.busy": "2025-05-03T13:48:21.805905Z",
     "iopub.status.idle": "2025-05-03T13:48:21.811248Z",
     "shell.execute_reply": "2025-05-03T13:48:21.810699Z"
    },
    "papermill": {
     "duration": 0.008417,
     "end_time": "2025-05-03T13:48:21.812180",
     "exception": false,
     "start_time": "2025-05-03T13:48:21.803763",
     "status": "completed"
    },
    "tags": [
     "parameters"
    ]
   },
   "outputs": [],
   "source": [
    "# Parameters\n",
    "Input_Dir = 'data_raw_all'\n",
    "Output_Dir = 'data_resize_all'\n",
    "\n",
    "# Target image size\n",
    "target_size_x = 32\n",
    "target_size_y = 32"
   ]
  },
  {
   "cell_type": "code",
   "execution_count": 2,
   "id": "56ac82f9",
   "metadata": {
    "execution": {
     "iopub.execute_input": "2025-05-03T13:48:21.816087Z",
     "iopub.status.busy": "2025-05-03T13:48:21.815739Z",
     "iopub.status.idle": "2025-05-03T13:48:21.818223Z",
     "shell.execute_reply": "2025-05-03T13:48:21.817777Z"
    },
    "papermill": {
     "duration": 0.005293,
     "end_time": "2025-05-03T13:48:21.819097",
     "exception": false,
     "start_time": "2025-05-03T13:48:21.813804",
     "status": "completed"
    },
    "tags": [
     "injected-parameters"
    ]
   },
   "outputs": [],
   "source": [
    "# Parameters\n",
    "Input_Dir = \"data_raw_all\"\n",
    "Output_Dir = \"data_resize_all\"\n"
   ]
  },
  {
   "cell_type": "markdown",
   "id": "e849b89f",
   "metadata": {
    "papermill": {
     "duration": 0.001494,
     "end_time": "2025-05-03T13:48:21.822187",
     "exception": false,
     "start_time": "2025-05-03T13:48:21.820693",
     "status": "completed"
    },
    "tags": []
   },
   "source": [
    "### Load libraries and defaults"
   ]
  },
  {
   "cell_type": "code",
   "execution_count": 3,
   "id": "81abc2ad",
   "metadata": {
    "execution": {
     "iopub.execute_input": "2025-05-03T13:48:21.826207Z",
     "iopub.status.busy": "2025-05-03T13:48:21.825858Z",
     "iopub.status.idle": "2025-05-03T13:48:21.894393Z",
     "shell.execute_reply": "2025-05-03T13:48:21.893951Z"
    },
    "papermill": {
     "duration": 0.071493,
     "end_time": "2025-05-03T13:48:21.895295",
     "exception": false,
     "start_time": "2025-05-03T13:48:21.823802",
     "status": "completed"
    },
    "tags": []
   },
   "outputs": [],
   "source": [
    "import glob\n",
    "import os\n",
    "from pathlib import Path\n",
    "\n",
    "from PIL import Image\n"
   ]
  },
  {
   "cell_type": "markdown",
   "id": "0ca304b5",
   "metadata": {
    "papermill": {
     "duration": 0.001511,
     "end_time": "2025-05-03T13:48:21.898539",
     "exception": false,
     "start_time": "2025-05-03T13:48:21.897028",
     "status": "completed"
    },
    "tags": []
   },
   "source": [
    "### Delete output directory"
   ]
  },
  {
   "cell_type": "code",
   "execution_count": 4,
   "id": "03cb95b6",
   "metadata": {
    "execution": {
     "iopub.execute_input": "2025-05-03T13:48:21.902582Z",
     "iopub.status.busy": "2025-05-03T13:48:21.902239Z",
     "iopub.status.idle": "2025-05-03T13:48:21.906114Z",
     "shell.execute_reply": "2025-05-03T13:48:21.905556Z"
    },
    "papermill": {
     "duration": 0.006806,
     "end_time": "2025-05-03T13:48:21.906973",
     "exception": false,
     "start_time": "2025-05-03T13:48:21.900167",
     "status": "completed"
    },
    "tags": []
   },
   "outputs": [
    {
     "name": "stdout",
     "output_type": "stream",
     "text": [
      "0 files have been deleted.\n"
     ]
    }
   ],
   "source": [
    "files = glob.glob(Output_Dir + '/*.jpg')\n",
    "for f in files:\n",
    "    os.remove(f)\n",
    "print(str(len(files)) + \" files have been deleted.\")"
   ]
  },
  {
   "cell_type": "markdown",
   "id": "7c5a293e",
   "metadata": {
    "papermill": {
     "duration": 0.002447,
     "end_time": "2025-05-03T13:48:21.911276",
     "exception": false,
     "start_time": "2025-05-03T13:48:21.908829",
     "status": "completed"
    },
    "tags": []
   },
   "source": [
    "### Load files and resize"
   ]
  },
  {
   "cell_type": "code",
   "execution_count": 5,
   "id": "f5dda410",
   "metadata": {
    "execution": {
     "iopub.execute_input": "2025-05-03T13:48:21.915395Z",
     "iopub.status.busy": "2025-05-03T13:48:21.915239Z",
     "iopub.status.idle": "2025-05-03T13:48:22.877125Z",
     "shell.execute_reply": "2025-05-03T13:48:22.876458Z"
    },
    "papermill": {
     "duration": 0.965125,
     "end_time": "2025-05-03T13:48:22.878083",
     "exception": false,
     "start_time": "2025-05-03T13:48:21.912958",
     "status": "completed"
    },
    "tags": []
   },
   "outputs": [
    {
     "name": "stdout",
     "output_type": "stream",
     "text": [
      "0 data_raw_all/5.6_1f48d6bd3fc40354b9253b4352c4c554.jpg\n"
     ]
    },
    {
     "name": "stdout",
     "output_type": "stream",
     "text": [
      "500 data_raw_all/6.6_32f8960168ad68dd0ce3eb6e9365fa1b.jpg\n"
     ]
    },
    {
     "name": "stdout",
     "output_type": "stream",
     "text": [
      "1000 data_raw_all/3.8_1884_zeiger4_2019-06-04T110009.jpg\n"
     ]
    },
    {
     "name": "stdout",
     "output_type": "stream",
     "text": [
      "1500 data_raw_all/0.0_e0941e6e3c5bf5a31d46bc38cb65648f.jpg\n"
     ]
    }
   ],
   "source": [
    "import hashlib\n",
    "\n",
    "files = glob.glob(Input_Dir + '/*.jpg')\n",
    "hashes={}\n",
    "for i,aktfile in enumerate(files):\n",
    "    if i%500==0:\n",
    "        print(i, aktfile)\n",
    "    test_image = Image.open(aktfile)\n",
    "    hash=hashlib.sha256(test_image.tobytes()).hexdigest()\n",
    "    if hash in hashes:\n",
    "        hashes[hash].append(aktfile)\n",
    "    else:\n",
    "        hashes[hash]=[aktfile]\n",
    "    test_image = test_image.resize((target_size_x, target_size_y), Image.LANCZOS)\n",
    "    base=os.path.basename(aktfile)\n",
    "    save_name = Output_Dir + '/' + base\n",
    "    test_image.save(save_name, \"JPEG\", quality = 100)"
   ]
  },
  {
   "cell_type": "markdown",
   "id": "ffcb40da",
   "metadata": {
    "papermill": {
     "duration": 0.001795,
     "end_time": "2025-05-03T13:48:22.881968",
     "exception": false,
     "start_time": "2025-05-03T13:48:22.880173",
     "status": "completed"
    },
    "tags": []
   },
   "source": [
    "### Remove duplicate files"
   ]
  },
  {
   "cell_type": "code",
   "execution_count": 6,
   "id": "f735eee7",
   "metadata": {
    "execution": {
     "iopub.execute_input": "2025-05-03T13:48:22.886769Z",
     "iopub.status.busy": "2025-05-03T13:48:22.886303Z",
     "iopub.status.idle": "2025-05-03T13:48:22.890040Z",
     "shell.execute_reply": "2025-05-03T13:48:22.889524Z"
    },
    "papermill": {
     "duration": 0.006989,
     "end_time": "2025-05-03T13:48:22.890822",
     "exception": false,
     "start_time": "2025-05-03T13:48:22.883833",
     "status": "completed"
    },
    "tags": []
   },
   "outputs": [],
   "source": [
    "# duplicate files are a risk to the metrics, they pollute the validation dataset\n",
    "for hash in hashes:\n",
    "    if len(hashes[hash])>1:\n",
    "        print(hashes[hash])    \n",
    "        for duplicate in hashes[hash][1:]:\n",
    "            # remove all except the first\n",
    "            os.remove(duplicate)    "
   ]
  }
 ],
 "metadata": {
  "kernelspec": {
   "display_name": "tflite2",
   "language": "python",
   "name": "python3"
  },
  "language_info": {
   "codemirror_mode": {
    "name": "ipython",
    "version": 3
   },
   "file_extension": ".py",
   "mimetype": "text/x-python",
   "name": "python",
   "nbconvert_exporter": "python",
   "pygments_lexer": "ipython3",
   "version": "3.11.12"
  },
  "papermill": {
   "default_parameters": {},
   "duration": 2.454306,
   "end_time": "2025-05-03T13:48:23.007268",
   "environment_variables": {},
   "exception": null,
   "input_path": "01_Image-Preparation.ipynb",
   "output_path": "models_tmp/01_Image-Preparation_result_v1700.ipynb",
   "parameters": {
    "Input_Dir": "data_raw_all",
    "Output_Dir": "data_resize_all"
   },
   "start_time": "2025-05-03T13:48:20.552962",
   "version": "2.6.0"
  }
 },
 "nbformat": 4,
 "nbformat_minor": 5
}