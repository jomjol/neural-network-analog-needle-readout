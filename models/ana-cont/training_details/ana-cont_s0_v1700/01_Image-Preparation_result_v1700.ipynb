{
 "cells": [
  {
   "cell_type": "markdown",
   "id": "3ae47861",
   "metadata": {
    "papermill": {
     "duration": 0.002116,
     "end_time": "2025-05-04T16:55:06.786780",
     "exception": false,
     "start_time": "2025-05-04T16:55:06.784664",
     "status": "completed"
    },
    "tags": []
   },
   "source": [
    "## Image preparation\n",
    "\n",
    "The below code can be used to transform the images in an input directory (Input_Dir) \n",
    "to the right size (e.g. 32x32 pixels) into an output directory (Output_Dir).\n",
    "\n",
    "### Note\n",
    "Duplicates will be removed by evaluating the file hash"
   ]
  },
  {
   "cell_type": "markdown",
   "id": "102f054f",
   "metadata": {
    "papermill": {
     "duration": 0.001367,
     "end_time": "2025-05-04T16:55:06.789966",
     "exception": false,
     "start_time": "2025-05-04T16:55:06.788599",
     "status": "completed"
    },
    "tags": []
   },
   "source": [
    "### Basic Parameter"
   ]
  },
  {
   "cell_type": "code",
   "execution_count": 1,
   "id": "097ca3bc",
   "metadata": {
    "execution": {
     "iopub.execute_input": "2025-05-04T16:55:06.793856Z",
     "iopub.status.busy": "2025-05-04T16:55:06.793629Z",
     "iopub.status.idle": "2025-05-04T16:55:06.799129Z",
     "shell.execute_reply": "2025-05-04T16:55:06.798660Z"
    },
    "papermill": {
     "duration": 0.008457,
     "end_time": "2025-05-04T16:55:06.799998",
     "exception": false,
     "start_time": "2025-05-04T16:55:06.791541",
     "status": "completed"
    },
    "tags": [
     "parameters"
    ]
   },
   "outputs": [],
   "source": [
    "# Parameters\n",
    "Input_Dir = 'data_raw_all'\n",
    "Output_Dir = 'data_resize_all'\n",
    "\n",
    "# Target image size\n",
    "target_size_x = 32\n",
    "target_size_y = 32"
   ]
  },
  {
   "cell_type": "code",
   "execution_count": 2,
   "id": "329e5a4d",
   "metadata": {
    "execution": {
     "iopub.execute_input": "2025-05-04T16:55:06.803754Z",
     "iopub.status.busy": "2025-05-04T16:55:06.803591Z",
     "iopub.status.idle": "2025-05-04T16:55:06.806144Z",
     "shell.execute_reply": "2025-05-04T16:55:06.805680Z"
    },
    "papermill": {
     "duration": 0.005408,
     "end_time": "2025-05-04T16:55:06.807028",
     "exception": false,
     "start_time": "2025-05-04T16:55:06.801620",
     "status": "completed"
    },
    "tags": [
     "injected-parameters"
    ]
   },
   "outputs": [],
   "source": [
    "# Parameters\n",
    "Input_Dir = \"data_raw_all\"\n",
    "Output_Dir = \"data_resize_all\"\n"
   ]
  },
  {
   "cell_type": "markdown",
   "id": "b4be7caa",
   "metadata": {
    "papermill": {
     "duration": 0.001501,
     "end_time": "2025-05-04T16:55:06.810153",
     "exception": false,
     "start_time": "2025-05-04T16:55:06.808652",
     "status": "completed"
    },
    "tags": []
   },
   "source": [
    "### Load libraries and defaults"
   ]
  },
  {
   "cell_type": "code",
   "execution_count": 3,
   "id": "d4f0af76",
   "metadata": {
    "execution": {
     "iopub.execute_input": "2025-05-04T16:55:06.814259Z",
     "iopub.status.busy": "2025-05-04T16:55:06.813784Z",
     "iopub.status.idle": "2025-05-04T16:55:06.845199Z",
     "shell.execute_reply": "2025-05-04T16:55:06.844714Z"
    },
    "papermill": {
     "duration": 0.034458,
     "end_time": "2025-05-04T16:55:06.846181",
     "exception": false,
     "start_time": "2025-05-04T16:55:06.811723",
     "status": "completed"
    },
    "tags": []
   },
   "outputs": [],
   "source": [
    "import glob\n",
    "import os\n",
    "from pathlib import Path\n",
    "\n",
    "from PIL import Image\n"
   ]
  },
  {
   "cell_type": "markdown",
   "id": "cf301b4e",
   "metadata": {
    "papermill": {
     "duration": 0.001462,
     "end_time": "2025-05-04T16:55:06.849381",
     "exception": false,
     "start_time": "2025-05-04T16:55:06.847919",
     "status": "completed"
    },
    "tags": []
   },
   "source": [
    "### Delete output directory"
   ]
  },
  {
   "cell_type": "code",
   "execution_count": 4,
   "id": "aedc17f7",
   "metadata": {
    "execution": {
     "iopub.execute_input": "2025-05-04T16:55:06.853369Z",
     "iopub.status.busy": "2025-05-04T16:55:06.853012Z",
     "iopub.status.idle": "2025-05-04T16:55:06.856759Z",
     "shell.execute_reply": "2025-05-04T16:55:06.856317Z"
    },
    "papermill": {
     "duration": 0.00665,
     "end_time": "2025-05-04T16:55:06.857616",
     "exception": false,
     "start_time": "2025-05-04T16:55:06.850966",
     "status": "completed"
    },
    "tags": []
   },
   "outputs": [
    {
     "name": "stdout",
     "output_type": "stream",
     "text": [
      "0 files have been deleted.\n"
     ]
    }
   ],
   "source": [
    "files = glob.glob(Output_Dir + '/*.jpg')\n",
    "for f in files:\n",
    "    os.remove(f)\n",
    "print(str(len(files)) + \" files have been deleted.\")"
   ]
  },
  {
   "cell_type": "markdown",
   "id": "e0a20799",
   "metadata": {
    "papermill": {
     "duration": 0.002341,
     "end_time": "2025-05-04T16:55:06.861683",
     "exception": false,
     "start_time": "2025-05-04T16:55:06.859342",
     "status": "completed"
    },
    "tags": []
   },
   "source": [
    "### Load files and resize"
   ]
  },
  {
   "cell_type": "code",
   "execution_count": 5,
   "id": "f15333eb",
   "metadata": {
    "execution": {
     "iopub.execute_input": "2025-05-04T16:55:06.865829Z",
     "iopub.status.busy": "2025-05-04T16:55:06.865422Z",
     "iopub.status.idle": "2025-05-04T16:55:07.815499Z",
     "shell.execute_reply": "2025-05-04T16:55:07.814862Z"
    },
    "papermill": {
     "duration": 0.953045,
     "end_time": "2025-05-04T16:55:07.816390",
     "exception": false,
     "start_time": "2025-05-04T16:55:06.863345",
     "status": "completed"
    },
    "tags": []
   },
   "outputs": [
    {
     "name": "stdout",
     "output_type": "stream",
     "text": [
      "0 data_raw_all/5.6_1f48d6bd3fc40354b9253b4352c4c554.jpg\n"
     ]
    },
    {
     "name": "stdout",
     "output_type": "stream",
     "text": [
      "500 data_raw_all/6.6_32f8960168ad68dd0ce3eb6e9365fa1b.jpg\n"
     ]
    },
    {
     "name": "stdout",
     "output_type": "stream",
     "text": [
      "1000 data_raw_all/7.1.jpg\n"
     ]
    },
    {
     "name": "stdout",
     "output_type": "stream",
     "text": [
      "1500 data_raw_all/0.0_e0941e6e3c5bf5a31d46bc38cb65648f.jpg\n"
     ]
    }
   ],
   "source": [
    "import hashlib\n",
    "\n",
    "files = glob.glob(Input_Dir + '/*.jpg')\n",
    "hashes={}\n",
    "for i,aktfile in enumerate(files):\n",
    "    if i%500==0:\n",
    "        print(i, aktfile)\n",
    "    test_image = Image.open(aktfile)\n",
    "    hash=hashlib.sha256(test_image.tobytes()).hexdigest()\n",
    "    if hash in hashes:\n",
    "        hashes[hash].append(aktfile)\n",
    "    else:\n",
    "        hashes[hash]=[aktfile]\n",
    "    test_image = test_image.resize((target_size_x, target_size_y), Image.LANCZOS)\n",
    "    base=os.path.basename(aktfile)\n",
    "    save_name = Output_Dir + '/' + base\n",
    "    test_image.save(save_name, \"JPEG\", quality = 100)"
   ]
  },
  {
   "cell_type": "markdown",
   "id": "535950f9",
   "metadata": {
    "papermill": {
     "duration": 0.001759,
     "end_time": "2025-05-04T16:55:07.820314",
     "exception": false,
     "start_time": "2025-05-04T16:55:07.818555",
     "status": "completed"
    },
    "tags": []
   },
   "source": [
    "### Remove duplicate files"
   ]
  },
  {
   "cell_type": "code",
   "execution_count": 6,
   "id": "1ce7e49c",
   "metadata": {
    "execution": {
     "iopub.execute_input": "2025-05-04T16:55:07.824846Z",
     "iopub.status.busy": "2025-05-04T16:55:07.824524Z",
     "iopub.status.idle": "2025-05-04T16:55:07.827984Z",
     "shell.execute_reply": "2025-05-04T16:55:07.827510Z"
    },
    "papermill": {
     "duration": 0.006664,
     "end_time": "2025-05-04T16:55:07.828831",
     "exception": false,
     "start_time": "2025-05-04T16:55:07.822167",
     "status": "completed"
    },
    "tags": []
   },
   "outputs": [],
   "source": [
    "# duplicate files are a risk to the metrics, they pollute the validation dataset\n",
    "for hash in hashes:\n",
    "    if len(hashes[hash])>1:\n",
    "        print(hashes[hash])    \n",
    "        for duplicate in hashes[hash][1:]:\n",
    "            # remove all except the first\n",
    "            os.remove(duplicate)    "
   ]
  }
 ],
 "metadata": {
  "kernelspec": {
   "display_name": "tflite2",
   "language": "python",
   "name": "python3"
  },
  "language_info": {
   "codemirror_mode": {
    "name": "ipython",
    "version": 3
   },
   "file_extension": ".py",
   "mimetype": "text/x-python",
   "name": "python",
   "nbconvert_exporter": "python",
   "pygments_lexer": "ipython3",
   "version": "3.11.12"
  },
  "papermill": {
   "default_parameters": {},
   "duration": 2.209884,
   "end_time": "2025-05-04T16:55:07.945503",
   "environment_variables": {},
   "exception": null,
   "input_path": "01_Image-Preparation.ipynb",
   "output_path": "models_tmp/01_Image-Preparation_result_v1700.ipynb",
   "parameters": {
    "Input_Dir": "data_raw_all",
    "Output_Dir": "data_resize_all"
   },
   "start_time": "2025-05-04T16:55:05.735619",
   "version": "2.6.0"
  }
 },
 "nbformat": 4,
 "nbformat_minor": 5
}