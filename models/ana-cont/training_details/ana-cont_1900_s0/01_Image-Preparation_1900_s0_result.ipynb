{
 "cells": [
  {
   "cell_type": "markdown",
   "id": "711596a3",
   "metadata": {
    "papermill": {
     "duration": 0.002046,
     "end_time": "2025-08-25T18:30:02.958403",
     "exception": false,
     "start_time": "2025-08-25T18:30:02.956357",
     "status": "completed"
    },
    "tags": []
   },
   "source": [
    "## Image preparation\n",
    "\n",
    "Remove duplicates from input directory by evaluating the image hash\n",
    "\n",
    "* Note 1: It can also be used to resize images to a defined size (e.g. 32x32 pixels) from an input directory (Input_Dir) into an output directory (Resize_Dir).\n",
    "* Note 2: It's not mandatory to resize with this notebook, because it will be performed in the training notebooks (`02_Train-CNN_...`)"
   ]
  },
  {
   "cell_type": "markdown",
   "id": "2143f8a4",
   "metadata": {
    "papermill": {
     "duration": 0.001412,
     "end_time": "2025-08-25T18:30:02.961596",
     "exception": false,
     "start_time": "2025-08-25T18:30:02.960184",
     "status": "completed"
    },
    "tags": []
   },
   "source": [
    "### Basic Parameter\n",
    "\n",
    "IMPORTANT: Do not rename any variables in this section, they are externally referenced in the GitHub action `Train Model`.\n",
    "\n",
    "* `Input_Dir`: Path to the input directory containing unscaled training images\n",
    "* `Resize_Dir`: Path to the output directory where resized and scaled images will be saved.\n",
    "* `Save_Resized_Images`: Set to true to save resized images (Optional: Images will be resized in training notebook automatically)\n",
    "* `Input_Shape`: Image dimensions (width, height, channels)\n",
    "* `Phash_Threshold`: Threshold for image similarity check by perceptual image hash (0: identical, >= 5: visually very similar, even higher: more different)"
   ]
  },
  {
   "cell_type": "code",
   "execution_count": 1,
   "id": "7238d826",
   "metadata": {
    "execution": {
     "iopub.execute_input": "2025-08-25T18:30:02.965355Z",
     "iopub.status.busy": "2025-08-25T18:30:02.965196Z",
     "iopub.status.idle": "2025-08-25T18:30:02.970423Z",
     "shell.execute_reply": "2025-08-25T18:30:02.969991Z"
    },
    "papermill": {
     "duration": 0.008107,
     "end_time": "2025-08-25T18:30:02.971338",
     "exception": false,
     "start_time": "2025-08-25T18:30:02.963231",
     "status": "completed"
    },
    "tags": [
     "parameters"
    ]
   },
   "outputs": [],
   "source": [
    "# Parameters\n",
    "Input_Dir = 'data_raw_all'\n",
    "Resize_Dir = 'data_resize_all'\n",
    "\n",
    "# Save resized images\n",
    "Save_Resized_Images = False\n",
    "\n",
    "# Input image size [width, height, channels]\n",
    "Input_Shape = (32, 32, 3)\n",
    "\n",
    "# Threshold for image similarity check by perceptual image hash\n",
    "Phash_Threshold = 2\n"
   ]
  },
  {
   "cell_type": "code",
   "execution_count": 2,
   "id": "dcf0b5a0",
   "metadata": {
    "execution": {
     "iopub.execute_input": "2025-08-25T18:30:02.975056Z",
     "iopub.status.busy": "2025-08-25T18:30:02.974879Z",
     "iopub.status.idle": "2025-08-25T18:30:02.977163Z",
     "shell.execute_reply": "2025-08-25T18:30:02.976704Z"
    },
    "papermill": {
     "duration": 0.005027,
     "end_time": "2025-08-25T18:30:02.977959",
     "exception": false,
     "start_time": "2025-08-25T18:30:02.972932",
     "status": "completed"
    },
    "tags": [
     "injected-parameters"
    ]
   },
   "outputs": [],
   "source": [
    "# Parameters\n",
    "Input_Dir = \"data_raw_all\"\n",
    "Output_Dir = \"data_resize_all\"\n"
   ]
  },
  {
   "cell_type": "markdown",
   "id": "16570d76",
   "metadata": {
    "papermill": {
     "duration": 0.001489,
     "end_time": "2025-08-25T18:30:02.981094",
     "exception": false,
     "start_time": "2025-08-25T18:30:02.979605",
     "status": "completed"
    },
    "tags": []
   },
   "source": [
    "### Load Libraries"
   ]
  },
  {
   "cell_type": "code",
   "execution_count": 3,
   "id": "3b00eed3",
   "metadata": {
    "execution": {
     "iopub.execute_input": "2025-08-25T18:30:02.984818Z",
     "iopub.status.busy": "2025-08-25T18:30:02.984669Z",
     "iopub.status.idle": "2025-08-25T18:30:04.247237Z",
     "shell.execute_reply": "2025-08-25T18:30:04.246651Z"
    },
    "papermill": {
     "duration": 1.265496,
     "end_time": "2025-08-25T18:30:04.248228",
     "exception": false,
     "start_time": "2025-08-25T18:30:02.982732",
     "status": "completed"
    },
    "tags": []
   },
   "outputs": [],
   "source": [
    "import os\n",
    "import sys\n",
    "import glob\n",
    "import shutil\n",
    "from pathlib import Path\n",
    "import hashlib\n",
    "from collections import defaultdict\n",
    "from PIL import Image\n",
    "import imagehash\n",
    "import matplotlib.pyplot as plt\n",
    "\n",
    "# Prepare folders\n",
    "if not (Path(Input_Dir).exists() and Path(Input_Dir).is_dir()): # Check if input is availabe\n",
    "    sys.exit(f\"Folder '{Input_Dir}' does not exist.\")\n",
    "\n",
    "# Prepare duplicates folder (as subfolder of input folder)\n",
    "Duplicates_Dir = os.path.join(Input_Dir, \"duplicates\")\n",
    "Path(Duplicates_Dir).mkdir(parents=True, exist_ok=True)  # Create duplicates folder if it doesn't exist\n",
    "\n",
    "if Save_Resized_Images:\n",
    "    import tensorflow as tf\n",
    "    Path(Resize_Dir).mkdir(parents=True, exist_ok=True)  # Create output folder if it doesn't exist\n"
   ]
  },
  {
   "cell_type": "markdown",
   "id": "e409c6cd",
   "metadata": {
    "papermill": {
     "duration": 0.001455,
     "end_time": "2025-08-25T18:30:04.251621",
     "exception": false,
     "start_time": "2025-08-25T18:30:04.250166",
     "status": "completed"
    },
    "tags": []
   },
   "source": [
    "### Delete Output Directory (Resized Images)"
   ]
  },
  {
   "cell_type": "code",
   "execution_count": 4,
   "id": "018c6bb4",
   "metadata": {
    "execution": {
     "iopub.execute_input": "2025-08-25T18:30:04.255460Z",
     "iopub.status.busy": "2025-08-25T18:30:04.255245Z",
     "iopub.status.idle": "2025-08-25T18:30:04.259055Z",
     "shell.execute_reply": "2025-08-25T18:30:04.258561Z"
    },
    "papermill": {
     "duration": 0.006617,
     "end_time": "2025-08-25T18:30:04.259849",
     "exception": false,
     "start_time": "2025-08-25T18:30:04.253232",
     "status": "completed"
    },
    "tags": []
   },
   "outputs": [
    {
     "name": "stdout",
     "output_type": "stream",
     "text": [
      "0 files have been deleted.\n"
     ]
    }
   ],
   "source": [
    "if os.path.exists(Resize_Dir):\n",
    "    files = glob.glob(Resize_Dir + '/*.jpg')\n",
    "\n",
    "    # Delete files\n",
    "    for f in files:\n",
    "        os.remove(f)\n",
    "\n",
    "    print(str(len(files)) + \" files have been deleted.\")\n",
    "else:\n",
    "    print(f\"No files have been deleted\")\n"
   ]
  },
  {
   "cell_type": "markdown",
   "id": "63f7f834",
   "metadata": {
    "papermill": {
     "duration": 0.002403,
     "end_time": "2025-08-25T18:30:04.264022",
     "exception": false,
     "start_time": "2025-08-25T18:30:04.261619",
     "status": "completed"
    },
    "tags": []
   },
   "source": [
    "### ### Load Files, detect and move duplicates by hash + (optional: Resize Images)"
   ]
  },
  {
   "cell_type": "code",
   "execution_count": 5,
   "id": "dd3a92ff",
   "metadata": {
    "execution": {
     "iopub.execute_input": "2025-08-25T18:30:04.267934Z",
     "iopub.status.busy": "2025-08-25T18:30:04.267746Z",
     "iopub.status.idle": "2025-08-25T18:30:08.938722Z",
     "shell.execute_reply": "2025-08-25T18:30:08.938096Z"
    },
    "papermill": {
     "duration": 4.674014,
     "end_time": "2025-08-25T18:30:08.939698",
     "exception": false,
     "start_time": "2025-08-25T18:30:04.265684",
     "status": "completed"
    },
    "tags": []
   },
   "outputs": [
    {
     "name": "stdout",
     "output_type": "stream",
     "text": [
      "0 files processed...\n"
     ]
    },
    {
     "name": "stdout",
     "output_type": "stream",
     "text": [
      "500 files processed...\n"
     ]
    },
    {
     "name": "stdout",
     "output_type": "stream",
     "text": [
      "1000 files processed...\n"
     ]
    },
    {
     "name": "stdout",
     "output_type": "stream",
     "text": [
      "1500 files processed...\n"
     ]
    },
    {
     "name": "stdout",
     "output_type": "stream",
     "text": [
      "Completed. 1838 files processed\n"
     ]
    }
   ],
   "source": [
    "files = glob.glob(Input_Dir + '/*.jpg')\n",
    "\n",
    "hashesSha256 = {}\n",
    "hashesPhash = {}\n",
    "\n",
    "# Process files\n",
    "for i, file in enumerate(files):\n",
    "    try:\n",
    "        img = Image.open(file).convert(\"RGB\")\n",
    "\n",
    "        # Exact hash (SHA256 of JPEG bytes)\n",
    "        with open(file, \"rb\") as f:\n",
    "            bytesData = f.read()\n",
    "        hashVal = hashlib.sha256(bytesData).hexdigest()\n",
    "\n",
    "        if hashVal in hashesSha256:\n",
    "            dupTarget = os.path.join(Duplicates_Dir, os.path.basename(file))\n",
    "            shutil.move(file, dupTarget)\n",
    "            print(f\"Exact duplicate moved: {file} -> {dupTarget}\")\n",
    "            continue\n",
    "        else:\n",
    "            hashesSha256[hashVal] = [file]\n",
    "\n",
    "        # Perceptual hash\n",
    "        phashVal = imagehash.phash(img)\n",
    "\n",
    "        foundSimilar = False\n",
    "        for existingPhash in hashesPhash:\n",
    "            if abs(phashVal - existingPhash) <= Phash_Threshold:\n",
    "                dupTarget = os.path.join(Duplicates_Dir, os.path.basename(file))\n",
    "                shutil.move(file, dupTarget)\n",
    "                print(f\"Near-duplicate moved: {file} -> {dupTarget}\")\n",
    "                foundSimilar = True\n",
    "                break\n",
    "\n",
    "        if not foundSimilar:\n",
    "            hashesPhash[phashVal] = [file]\n",
    "\n",
    "            # Resize images (e.g. for debug purposes)\n",
    "            if Save_Resized_Images:\n",
    "                # Read with TF\n",
    "                imageBytes = tf.io.read_file(file)\n",
    "                imageTf = tf.image.decode_image(imageBytes, channels=Input_Shape[2], expand_animations=False)\n",
    "                \n",
    "                # Resize if shape differs\n",
    "                # IMPORTANT: Use MITCHELLCUBIC filter to match ESP32 resize algorithm\n",
    "                if imageTf.shape[0] != Input_Shape[0] or imageTf.shape[1] != Input_Shape[1]:\n",
    "                    imageTf = tf.image.resize(imageTf, [Input_Shape[0], Input_Shape[1]], method=tf.image.ResizeMethod.MITCHELLCUBIC)\n",
    "                    imageTf = tf.clip_by_value(tf.cast(imageTf, tf.uint8), 0, 255)\n",
    "                else:\n",
    "                    imageTf = tf.cast(imageTf, tf.uint8)\n",
    "                \n",
    "                # Save resized\n",
    "                savePath = os.path.join(Resize_Dir, os.path.basename(file))\n",
    "                tf.io.write_file(savePath, tf.io.encode_jpeg(imageTf, quality=100))\n",
    "\n",
    "    except Exception as e:\n",
    "        print(f\"Error processing {file}: {e}\")\n",
    "\n",
    "    if i % 500 == 0:\n",
    "        print(f\"{i} files processed...\")\n",
    "\n",
    "print(f\"Completed. {i+1} files processed\")\n"
   ]
  },
  {
   "cell_type": "code",
   "execution_count": 6,
   "id": "12099c33",
   "metadata": {
    "execution": {
     "iopub.execute_input": "2025-08-25T18:30:08.944640Z",
     "iopub.status.busy": "2025-08-25T18:30:08.944403Z",
     "iopub.status.idle": "2025-08-25T18:30:09.455726Z",
     "shell.execute_reply": "2025-08-25T18:30:09.455167Z"
    },
    "papermill": {
     "duration": 0.51468,
     "end_time": "2025-08-25T18:30:09.456696",
     "exception": false,
     "start_time": "2025-08-25T18:30:08.942016",
     "status": "completed"
    },
    "scrolled": true,
    "tags": []
   },
   "outputs": [
    {
     "data": {
      "image/png": "[encoded data removed]",
      "text/plain": [
       "<Figure size 1000x500 with 1 Axes>"
      ]
     },
     "metadata": {},
     "output_type": "display_data"
    }
   ],
   "source": [
    "# Distribution by filename prefix (category)\n",
    "remainingFiles = glob.glob(os.path.join(Input_Dir, \"*.jpg\"))\n",
    "distribution = defaultdict(int)\n",
    "\n",
    " # Extract real value from filename\n",
    "for file in remainingFiles:\n",
    "    base = Path(file).name\n",
    "    realValue = base[:3]\n",
    "    distribution[realValue] += 1\n",
    "\n",
    "# Plot distribution ----\n",
    "realValues = sorted(distribution.keys(), key=lambda x: float(x))\n",
    "counts = [distribution[v] for v in realValues]\n",
    "\n",
    "plt.figure(figsize=(10,5))\n",
    "plt.bar(realValues, counts)\n",
    "plt.xlabel(\"Value\")\n",
    "plt.ylabel(\"Number Of Images\")\n",
    "plt.title(\"Distribution Of Images By Value\")\n",
    "plt.xticks(ticks=range(len(realValues)), labels=realValues, rotation=90, fontsize=8)\n",
    "plt.tight_layout()\n",
    "plt.show()\n"
   ]
  }
 ],
 "metadata": {
  "kernelspec": {
   "display_name": "Python 3 (ipykernel)",
   "language": "python",
   "name": "python3"
  },
  "language_info": {
   "codemirror_mode": {
    "name": "ipython",
    "version": 3
   },
   "file_extension": ".py",
   "mimetype": "text/x-python",
   "name": "python",
   "nbconvert_exporter": "python",
   "pygments_lexer": "ipython3",
   "version": "3.11.13"
  },
  "papermill": {
   "default_parameters": {},
   "duration": 8.416966,
   "end_time": "2025-08-25T18:30:09.674392",
   "environment_variables": {},
   "exception": null,
   "input_path": "01_Image-Preparation.ipynb",
   "output_path": "models_tmp/training_details/ana-cont_1900_s0/01_Image-Preparation_1900_s0_result.ipynb",
   "parameters": {
    "Input_Dir": "data_raw_all",
    "Output_Dir": "data_resize_all"
   },
   "start_time": "2025-08-25T18:30:01.257426",
   "version": "2.6.0"
  }
 },
 "nbformat": 4,
 "nbformat_minor": 5
}