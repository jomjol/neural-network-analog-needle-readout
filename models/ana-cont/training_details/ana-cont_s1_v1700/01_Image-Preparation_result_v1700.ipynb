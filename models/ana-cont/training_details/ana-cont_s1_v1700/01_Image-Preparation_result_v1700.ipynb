{
 "cells": [
  {
   "cell_type": "markdown",
   "id": "2dc160c7",
   "metadata": {
    "papermill": {
     "duration": 0.002141,
     "end_time": "2025-05-03T11:51:47.505328",
     "exception": false,
     "start_time": "2025-05-03T11:51:47.503187",
     "status": "completed"
    },
    "tags": []
   },
   "source": [
    "## Image preparation\n",
    "\n",
    "The below code can be used to transform the images in an input directory (Input_Dir) \n",
    "to the right size (e.g. 32x32 pixels) into an output directory (Output_Dir).\n",
    "\n",
    "### Note\n",
    "Duplicates will be removed by evaluating the file hash"
   ]
  },
  {
   "cell_type": "markdown",
   "id": "29a0581c",
   "metadata": {
    "papermill": {
     "duration": 0.001469,
     "end_time": "2025-05-03T11:51:47.508653",
     "exception": false,
     "start_time": "2025-05-03T11:51:47.507184",
     "status": "completed"
    },
    "tags": []
   },
   "source": [
    "### Basic Parameter"
   ]
  },
  {
   "cell_type": "code",
   "execution_count": 1,
   "id": "6c27c91d",
   "metadata": {
    "execution": {
     "iopub.execute_input": "2025-05-03T11:51:47.512773Z",
     "iopub.status.busy": "2025-05-03T11:51:47.512374Z",
     "iopub.status.idle": "2025-05-03T11:51:47.517762Z",
     "shell.execute_reply": "2025-05-03T11:51:47.517291Z"
    },
    "papermill": {
     "duration": 0.008309,
     "end_time": "2025-05-03T11:51:47.518580",
     "exception": false,
     "start_time": "2025-05-03T11:51:47.510271",
     "status": "completed"
    },
    "tags": [
     "parameters"
    ]
   },
   "outputs": [],
   "source": [
    "# Parameters\n",
    "Input_Dir = 'data_raw_all'\n",
    "Output_Dir = 'data_resize_all'\n",
    "\n",
    "# Target image size\n",
    "target_size_x = 32\n",
    "target_size_y = 32"
   ]
  },
  {
   "cell_type": "code",
   "execution_count": 2,
   "id": "45a48541",
   "metadata": {
    "execution": {
     "iopub.execute_input": "2025-05-03T11:51:47.522519Z",
     "iopub.status.busy": "2025-05-03T11:51:47.522182Z",
     "iopub.status.idle": "2025-05-03T11:51:47.524669Z",
     "shell.execute_reply": "2025-05-03T11:51:47.524249Z"
    },
    "papermill": {
     "duration": 0.005279,
     "end_time": "2025-05-03T11:51:47.525492",
     "exception": false,
     "start_time": "2025-05-03T11:51:47.520213",
     "status": "completed"
    },
    "tags": [
     "injected-parameters"
    ]
   },
   "outputs": [],
   "source": [
    "# Parameters\n",
    "Input_Dir = \"data_raw_all\"\n",
    "Output_Dir = \"data_resize_all\"\n"
   ]
  },
  {
   "cell_type": "markdown",
   "id": "f4f10e3b",
   "metadata": {
    "papermill": {
     "duration": 0.001488,
     "end_time": "2025-05-03T11:51:47.528633",
     "exception": false,
     "start_time": "2025-05-03T11:51:47.527145",
     "status": "completed"
    },
    "tags": []
   },
   "source": [
    "### Load libraries and defaults"
   ]
  },
  {
   "cell_type": "code",
   "execution_count": 3,
   "id": "10f8b387",
   "metadata": {
    "execution": {
     "iopub.execute_input": "2025-05-03T11:51:47.532544Z",
     "iopub.status.busy": "2025-05-03T11:51:47.532391Z",
     "iopub.status.idle": "2025-05-03T11:51:47.562551Z",
     "shell.execute_reply": "2025-05-03T11:51:47.562126Z"
    },
    "papermill": {
     "duration": 0.033068,
     "end_time": "2025-05-03T11:51:47.563326",
     "exception": false,
     "start_time": "2025-05-03T11:51:47.530258",
     "status": "completed"
    },
    "tags": []
   },
   "outputs": [],
   "source": [
    "import glob\n",
    "import os\n",
    "from pathlib import Path\n",
    "\n",
    "from PIL import Image\n"
   ]
  },
  {
   "cell_type": "markdown",
   "id": "6348f00b",
   "metadata": {
    "papermill": {
     "duration": 0.001503,
     "end_time": "2025-05-03T11:51:47.566521",
     "exception": false,
     "start_time": "2025-05-03T11:51:47.565018",
     "status": "completed"
    },
    "tags": []
   },
   "source": [
    "### Delete output directory"
   ]
  },
  {
   "cell_type": "code",
   "execution_count": 4,
   "id": "a21d6927",
   "metadata": {
    "execution": {
     "iopub.execute_input": "2025-05-03T11:51:47.570444Z",
     "iopub.status.busy": "2025-05-03T11:51:47.570235Z",
     "iopub.status.idle": "2025-05-03T11:51:47.573903Z",
     "shell.execute_reply": "2025-05-03T11:51:47.573439Z"
    },
    "papermill": {
     "duration": 0.006636,
     "end_time": "2025-05-03T11:51:47.574774",
     "exception": false,
     "start_time": "2025-05-03T11:51:47.568138",
     "status": "completed"
    },
    "tags": []
   },
   "outputs": [
    {
     "name": "stdout",
     "output_type": "stream",
     "text": [
      "0 files have been deleted.\n"
     ]
    }
   ],
   "source": [
    "files = glob.glob(Output_Dir + '/*.jpg')\n",
    "for f in files:\n",
    "    os.remove(f)\n",
    "print(str(len(files)) + \" files have been deleted.\")"
   ]
  },
  {
   "cell_type": "markdown",
   "id": "14b0f7b8",
   "metadata": {
    "papermill": {
     "duration": 0.002373,
     "end_time": "2025-05-03T11:51:47.578903",
     "exception": false,
     "start_time": "2025-05-03T11:51:47.576530",
     "status": "completed"
    },
    "tags": []
   },
   "source": [
    "### Load files and resize"
   ]
  },
  {
   "cell_type": "code",
   "execution_count": 5,
   "id": "c9c8e6f6",
   "metadata": {
    "execution": {
     "iopub.execute_input": "2025-05-03T11:51:47.583117Z",
     "iopub.status.busy": "2025-05-03T11:51:47.582685Z",
     "iopub.status.idle": "2025-05-03T11:51:48.539759Z",
     "shell.execute_reply": "2025-05-03T11:51:48.539210Z"
    },
    "papermill": {
     "duration": 0.960053,
     "end_time": "2025-05-03T11:51:48.540629",
     "exception": false,
     "start_time": "2025-05-03T11:51:47.580576",
     "status": "completed"
    },
    "tags": []
   },
   "outputs": [
    {
     "name": "stdout",
     "output_type": "stream",
     "text": [
      "0 data_raw_all/5.6_1f48d6bd3fc40354b9253b4352c4c554.jpg\n"
     ]
    },
    {
     "name": "stdout",
     "output_type": "stream",
     "text": [
      "500 data_raw_all/6.6_32f8960168ad68dd0ce3eb6e9365fa1b.jpg\n"
     ]
    },
    {
     "name": "stdout",
     "output_type": "stream",
     "text": [
      "1000 data_raw_all/3.8_1884_zeiger4_2019-06-04T110009.jpg\n"
     ]
    },
    {
     "name": "stdout",
     "output_type": "stream",
     "text": [
      "1500 data_raw_all/0.0_e0941e6e3c5bf5a31d46bc38cb65648f.jpg\n"
     ]
    }
   ],
   "source": [
    "import hashlib\n",
    "\n",
    "files = glob.glob(Input_Dir + '/*.jpg')\n",
    "hashes={}\n",
    "for i,aktfile in enumerate(files):\n",
    "    if i%500==0:\n",
    "        print(i, aktfile)\n",
    "    test_image = Image.open(aktfile)\n",
    "    hash=hashlib.sha256(test_image.tobytes()).hexdigest()\n",
    "    if hash in hashes:\n",
    "        hashes[hash].append(aktfile)\n",
    "    else:\n",
    "        hashes[hash]=[aktfile]\n",
    "    test_image = test_image.resize((target_size_x, target_size_y), Image.LANCZOS)\n",
    "    base=os.path.basename(aktfile)\n",
    "    save_name = Output_Dir + '/' + base\n",
    "    test_image.save(save_name, \"JPEG\", quality = 100)"
   ]
  },
  {
   "cell_type": "markdown",
   "id": "0edbcee1",
   "metadata": {
    "papermill": {
     "duration": 0.001697,
     "end_time": "2025-05-03T11:51:48.544510",
     "exception": false,
     "start_time": "2025-05-03T11:51:48.542813",
     "status": "completed"
    },
    "tags": []
   },
   "source": [
    "### Remove duplicate files"
   ]
  },
  {
   "cell_type": "code",
   "execution_count": 6,
   "id": "0c75746d",
   "metadata": {
    "execution": {
     "iopub.execute_input": "2025-05-03T11:51:48.548914Z",
     "iopub.status.busy": "2025-05-03T11:51:48.548728Z",
     "iopub.status.idle": "2025-05-03T11:51:48.552226Z",
     "shell.execute_reply": "2025-05-03T11:51:48.551786Z"
    },
    "papermill": {
     "duration": 0.006687,
     "end_time": "2025-05-03T11:51:48.553041",
     "exception": false,
     "start_time": "2025-05-03T11:51:48.546354",
     "status": "completed"
    },
    "tags": []
   },
   "outputs": [],
   "source": [
    "# duplicate files are a risk to the metrics, they pollute the validation dataset\n",
    "for hash in hashes:\n",
    "    if len(hashes[hash])>1:\n",
    "        print(hashes[hash])    \n",
    "        for duplicate in hashes[hash][1:]:\n",
    "            # remove all except the first\n",
    "            os.remove(duplicate)    "
   ]
  }
 ],
 "metadata": {
  "kernelspec": {
   "display_name": "tflite2",
   "language": "python",
   "name": "python3"
  },
  "language_info": {
   "codemirror_mode": {
    "name": "ipython",
    "version": 3
   },
   "file_extension": ".py",
   "mimetype": "text/x-python",
   "name": "python",
   "nbconvert_exporter": "python",
   "pygments_lexer": "ipython3",
   "version": "3.11.12"
  },
  "papermill": {
   "default_parameters": {},
   "duration": 2.195855,
   "end_time": "2025-05-03T11:51:48.669142",
   "environment_variables": {},
   "exception": null,
   "input_path": "01_Image-Preparation.ipynb",
   "output_path": "models_tmp/01_Image-Preparation_result_v1700.ipynb",
   "parameters": {
    "Input_Dir": "data_raw_all",
    "Output_Dir": "data_resize_all"
   },
   "start_time": "2025-05-03T11:51:46.473287",
   "version": "2.6.0"
  }
 },
 "nbformat": 4,
 "nbformat_minor": 5
}