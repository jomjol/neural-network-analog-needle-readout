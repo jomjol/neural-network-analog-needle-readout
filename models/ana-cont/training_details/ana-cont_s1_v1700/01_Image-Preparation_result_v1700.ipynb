{
 "cells": [
  {
   "cell_type": "markdown",
   "id": "d2123d96",
   "metadata": {
    "papermill": {
     "duration": 0.001954,
     "end_time": "2025-05-03T12:29:56.749640",
     "exception": false,
     "start_time": "2025-05-03T12:29:56.747686",
     "status": "completed"
    },
    "tags": []
   },
   "source": [
    "## Image preparation\n",
    "\n",
    "The below code can be used to transform the images in an input directory (Input_Dir) \n",
    "to the right size (e.g. 32x32 pixels) into an output directory (Output_Dir).\n",
    "\n",
    "### Note\n",
    "Duplicates will be removed by evaluating the file hash"
   ]
  },
  {
   "cell_type": "markdown",
   "id": "74660775",
   "metadata": {
    "papermill": {
     "duration": 0.001396,
     "end_time": "2025-05-03T12:29:56.752823",
     "exception": false,
     "start_time": "2025-05-03T12:29:56.751427",
     "status": "completed"
    },
    "tags": []
   },
   "source": [
    "### Basic Parameter"
   ]
  },
  {
   "cell_type": "code",
   "execution_count": 1,
   "id": "fd77dfb7",
   "metadata": {
    "execution": {
     "iopub.execute_input": "2025-05-03T12:29:56.756712Z",
     "iopub.status.busy": "2025-05-03T12:29:56.756363Z",
     "iopub.status.idle": "2025-05-03T12:29:56.761641Z",
     "shell.execute_reply": "2025-05-03T12:29:56.761060Z"
    },
    "papermill": {
     "duration": 0.008201,
     "end_time": "2025-05-03T12:29:56.762555",
     "exception": false,
     "start_time": "2025-05-03T12:29:56.754354",
     "status": "completed"
    },
    "tags": [
     "parameters"
    ]
   },
   "outputs": [],
   "source": [
    "# Parameters\n",
    "Input_Dir = 'data_raw_all'\n",
    "Output_Dir = 'data_resize_all'\n",
    "\n",
    "# Target image size\n",
    "target_size_x = 32\n",
    "target_size_y = 32"
   ]
  },
  {
   "cell_type": "code",
   "execution_count": 2,
   "id": "b803962d",
   "metadata": {
    "execution": {
     "iopub.execute_input": "2025-05-03T12:29:56.766446Z",
     "iopub.status.busy": "2025-05-03T12:29:56.766141Z",
     "iopub.status.idle": "2025-05-03T12:29:56.768891Z",
     "shell.execute_reply": "2025-05-03T12:29:56.768321Z"
    },
    "papermill": {
     "duration": 0.005586,
     "end_time": "2025-05-03T12:29:56.769770",
     "exception": false,
     "start_time": "2025-05-03T12:29:56.764184",
     "status": "completed"
    },
    "tags": [
     "injected-parameters"
    ]
   },
   "outputs": [],
   "source": [
    "# Parameters\n",
    "Input_Dir = \"data_raw_all\"\n",
    "Output_Dir = \"data_resize_all\"\n"
   ]
  },
  {
   "cell_type": "markdown",
   "id": "e161baa5",
   "metadata": {
    "papermill": {
     "duration": 0.001569,
     "end_time": "2025-05-03T12:29:56.772958",
     "exception": false,
     "start_time": "2025-05-03T12:29:56.771389",
     "status": "completed"
    },
    "tags": []
   },
   "source": [
    "### Load libraries and defaults"
   ]
  },
  {
   "cell_type": "code",
   "execution_count": 3,
   "id": "8849cd56",
   "metadata": {
    "execution": {
     "iopub.execute_input": "2025-05-03T12:29:56.776939Z",
     "iopub.status.busy": "2025-05-03T12:29:56.776578Z",
     "iopub.status.idle": "2025-05-03T12:29:56.838303Z",
     "shell.execute_reply": "2025-05-03T12:29:56.837781Z"
    },
    "papermill": {
     "duration": 0.064637,
     "end_time": "2025-05-03T12:29:56.839190",
     "exception": false,
     "start_time": "2025-05-03T12:29:56.774553",
     "status": "completed"
    },
    "tags": []
   },
   "outputs": [],
   "source": [
    "import glob\n",
    "import os\n",
    "from pathlib import Path\n",
    "\n",
    "from PIL import Image\n"
   ]
  },
  {
   "cell_type": "markdown",
   "id": "56bdf412",
   "metadata": {
    "papermill": {
     "duration": 0.001598,
     "end_time": "2025-05-03T12:29:56.842563",
     "exception": false,
     "start_time": "2025-05-03T12:29:56.840965",
     "status": "completed"
    },
    "tags": []
   },
   "source": [
    "### Delete output directory"
   ]
  },
  {
   "cell_type": "code",
   "execution_count": 4,
   "id": "d44155df",
   "metadata": {
    "execution": {
     "iopub.execute_input": "2025-05-03T12:29:56.846763Z",
     "iopub.status.busy": "2025-05-03T12:29:56.846351Z",
     "iopub.status.idle": "2025-05-03T12:29:56.850561Z",
     "shell.execute_reply": "2025-05-03T12:29:56.849991Z"
    },
    "papermill": {
     "duration": 0.007367,
     "end_time": "2025-05-03T12:29:56.851663",
     "exception": false,
     "start_time": "2025-05-03T12:29:56.844296",
     "status": "completed"
    },
    "tags": []
   },
   "outputs": [
    {
     "name": "stdout",
     "output_type": "stream",
     "text": [
      "0 files have been deleted.\n"
     ]
    }
   ],
   "source": [
    "files = glob.glob(Output_Dir + '/*.jpg')\n",
    "for f in files:\n",
    "    os.remove(f)\n",
    "print(str(len(files)) + \" files have been deleted.\")"
   ]
  },
  {
   "cell_type": "markdown",
   "id": "859b6442",
   "metadata": {
    "papermill": {
     "duration": 0.002457,
     "end_time": "2025-05-03T12:29:56.856302",
     "exception": false,
     "start_time": "2025-05-03T12:29:56.853845",
     "status": "completed"
    },
    "tags": []
   },
   "source": [
    "### Load files and resize"
   ]
  },
  {
   "cell_type": "code",
   "execution_count": 5,
   "id": "15bf1c13",
   "metadata": {
    "execution": {
     "iopub.execute_input": "2025-05-03T12:29:56.860408Z",
     "iopub.status.busy": "2025-05-03T12:29:56.860205Z",
     "iopub.status.idle": "2025-05-03T12:29:57.819547Z",
     "shell.execute_reply": "2025-05-03T12:29:57.819041Z"
    },
    "papermill": {
     "duration": 0.962403,
     "end_time": "2025-05-03T12:29:57.820465",
     "exception": false,
     "start_time": "2025-05-03T12:29:56.858062",
     "status": "completed"
    },
    "tags": []
   },
   "outputs": [
    {
     "name": "stdout",
     "output_type": "stream",
     "text": [
      "0 data_raw_all/5.6_1f48d6bd3fc40354b9253b4352c4c554.jpg\n"
     ]
    },
    {
     "name": "stdout",
     "output_type": "stream",
     "text": [
      "500 data_raw_all/6.6_32f8960168ad68dd0ce3eb6e9365fa1b.jpg\n"
     ]
    },
    {
     "name": "stdout",
     "output_type": "stream",
     "text": [
      "1000 data_raw_all/3.8_1884_zeiger4_2019-06-04T110009.jpg\n"
     ]
    },
    {
     "name": "stdout",
     "output_type": "stream",
     "text": [
      "1500 data_raw_all/0.0_e0941e6e3c5bf5a31d46bc38cb65648f.jpg\n"
     ]
    }
   ],
   "source": [
    "import hashlib\n",
    "\n",
    "files = glob.glob(Input_Dir + '/*.jpg')\n",
    "hashes={}\n",
    "for i,aktfile in enumerate(files):\n",
    "    if i%500==0:\n",
    "        print(i, aktfile)\n",
    "    test_image = Image.open(aktfile)\n",
    "    hash=hashlib.sha256(test_image.tobytes()).hexdigest()\n",
    "    if hash in hashes:\n",
    "        hashes[hash].append(aktfile)\n",
    "    else:\n",
    "        hashes[hash]=[aktfile]\n",
    "    test_image = test_image.resize((target_size_x, target_size_y), Image.LANCZOS)\n",
    "    base=os.path.basename(aktfile)\n",
    "    save_name = Output_Dir + '/' + base\n",
    "    test_image.save(save_name, \"JPEG\", quality = 100)"
   ]
  },
  {
   "cell_type": "markdown",
   "id": "fa114fe8",
   "metadata": {
    "papermill": {
     "duration": 0.001778,
     "end_time": "2025-05-03T12:29:57.824368",
     "exception": false,
     "start_time": "2025-05-03T12:29:57.822590",
     "status": "completed"
    },
    "tags": []
   },
   "source": [
    "### Remove duplicate files"
   ]
  },
  {
   "cell_type": "code",
   "execution_count": 6,
   "id": "36e7c7ff",
   "metadata": {
    "execution": {
     "iopub.execute_input": "2025-05-03T12:29:57.829225Z",
     "iopub.status.busy": "2025-05-03T12:29:57.828693Z",
     "iopub.status.idle": "2025-05-03T12:29:57.832065Z",
     "shell.execute_reply": "2025-05-03T12:29:57.831644Z"
    },
    "papermill": {
     "duration": 0.006676,
     "end_time": "2025-05-03T12:29:57.832908",
     "exception": false,
     "start_time": "2025-05-03T12:29:57.826232",
     "status": "completed"
    },
    "tags": []
   },
   "outputs": [],
   "source": [
    "# duplicate files are a risk to the metrics, they pollute the validation dataset\n",
    "for hash in hashes:\n",
    "    if len(hashes[hash])>1:\n",
    "        print(hashes[hash])    \n",
    "        for duplicate in hashes[hash][1:]:\n",
    "            # remove all except the first\n",
    "            os.remove(duplicate)    "
   ]
  }
 ],
 "metadata": {
  "kernelspec": {
   "display_name": "tflite2",
   "language": "python",
   "name": "python3"
  },
  "language_info": {
   "codemirror_mode": {
    "name": "ipython",
    "version": 3
   },
   "file_extension": ".py",
   "mimetype": "text/x-python",
   "name": "python",
   "nbconvert_exporter": "python",
   "pygments_lexer": "ipython3",
   "version": "3.11.12"
  },
  "papermill": {
   "default_parameters": {},
   "duration": 2.662675,
   "end_time": "2025-05-03T12:29:57.949708",
   "environment_variables": {},
   "exception": null,
   "input_path": "01_Image-Preparation.ipynb",
   "output_path": "models_tmp/01_Image-Preparation_result_v1700.ipynb",
   "parameters": {
    "Input_Dir": "data_raw_all",
    "Output_Dir": "data_resize_all"
   },
   "start_time": "2025-05-03T12:29:55.287033",
   "version": "2.6.0"
  }
 },
 "nbformat": 4,
 "nbformat_minor": 5
}