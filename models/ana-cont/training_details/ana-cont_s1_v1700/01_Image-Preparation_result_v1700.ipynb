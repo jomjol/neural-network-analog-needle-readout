{
 "cells": [
  {
   "cell_type": "markdown",
   "id": "53238624",
   "metadata": {
    "papermill": {
     "duration": 0.002323,
     "end_time": "2025-05-03T14:54:32.749819",
     "exception": false,
     "start_time": "2025-05-03T14:54:32.747496",
     "status": "completed"
    },
    "tags": []
   },
   "source": [
    "## Image preparation\n",
    "\n",
    "The below code can be used to transform the images in an input directory (Input_Dir) \n",
    "to the right size (e.g. 32x32 pixels) into an output directory (Output_Dir).\n",
    "\n",
    "### Note\n",
    "Duplicates will be removed by evaluating the file hash"
   ]
  },
  {
   "cell_type": "markdown",
   "id": "230322c1",
   "metadata": {
    "papermill": {
     "duration": 0.00155,
     "end_time": "2025-05-03T14:54:32.753278",
     "exception": false,
     "start_time": "2025-05-03T14:54:32.751728",
     "status": "completed"
    },
    "tags": []
   },
   "source": [
    "### Basic Parameter"
   ]
  },
  {
   "cell_type": "code",
   "execution_count": 1,
   "id": "0be2f887",
   "metadata": {
    "execution": {
     "iopub.execute_input": "2025-05-03T14:54:32.757707Z",
     "iopub.status.busy": "2025-05-03T14:54:32.757360Z",
     "iopub.status.idle": "2025-05-03T14:54:32.762962Z",
     "shell.execute_reply": "2025-05-03T14:54:32.762434Z"
    },
    "papermill": {
     "duration": 0.009006,
     "end_time": "2025-05-03T14:54:32.763914",
     "exception": false,
     "start_time": "2025-05-03T14:54:32.754908",
     "status": "completed"
    },
    "tags": [
     "parameters"
    ]
   },
   "outputs": [],
   "source": [
    "# Parameters\n",
    "Input_Dir = 'data_raw_all'\n",
    "Output_Dir = 'data_resize_all'\n",
    "\n",
    "# Target image size\n",
    "target_size_x = 32\n",
    "target_size_y = 32"
   ]
  },
  {
   "cell_type": "code",
   "execution_count": 2,
   "id": "b56914ef",
   "metadata": {
    "execution": {
     "iopub.execute_input": "2025-05-03T14:54:32.767859Z",
     "iopub.status.busy": "2025-05-03T14:54:32.767524Z",
     "iopub.status.idle": "2025-05-03T14:54:32.770178Z",
     "shell.execute_reply": "2025-05-03T14:54:32.769590Z"
    },
    "papermill": {
     "duration": 0.005561,
     "end_time": "2025-05-03T14:54:32.771112",
     "exception": false,
     "start_time": "2025-05-03T14:54:32.765551",
     "status": "completed"
    },
    "tags": [
     "injected-parameters"
    ]
   },
   "outputs": [],
   "source": [
    "# Parameters\n",
    "Input_Dir = \"data_raw_all\"\n",
    "Output_Dir = \"data_resize_all\"\n"
   ]
  },
  {
   "cell_type": "markdown",
   "id": "e0211344",
   "metadata": {
    "papermill": {
     "duration": 0.001557,
     "end_time": "2025-05-03T14:54:32.774352",
     "exception": false,
     "start_time": "2025-05-03T14:54:32.772795",
     "status": "completed"
    },
    "tags": []
   },
   "source": [
    "### Load libraries and defaults"
   ]
  },
  {
   "cell_type": "code",
   "execution_count": 3,
   "id": "658c32fa",
   "metadata": {
    "execution": {
     "iopub.execute_input": "2025-05-03T14:54:32.778555Z",
     "iopub.status.busy": "2025-05-03T14:54:32.778156Z",
     "iopub.status.idle": "2025-05-03T14:54:32.808242Z",
     "shell.execute_reply": "2025-05-03T14:54:32.807680Z"
    },
    "papermill": {
     "duration": 0.03316,
     "end_time": "2025-05-03T14:54:32.809190",
     "exception": false,
     "start_time": "2025-05-03T14:54:32.776030",
     "status": "completed"
    },
    "tags": []
   },
   "outputs": [],
   "source": [
    "import glob\n",
    "import os\n",
    "from pathlib import Path\n",
    "\n",
    "from PIL import Image\n"
   ]
  },
  {
   "cell_type": "markdown",
   "id": "d70868d1",
   "metadata": {
    "papermill": {
     "duration": 0.001507,
     "end_time": "2025-05-03T14:54:32.812394",
     "exception": false,
     "start_time": "2025-05-03T14:54:32.810887",
     "status": "completed"
    },
    "tags": []
   },
   "source": [
    "### Delete output directory"
   ]
  },
  {
   "cell_type": "code",
   "execution_count": 4,
   "id": "35f143f0",
   "metadata": {
    "execution": {
     "iopub.execute_input": "2025-05-03T14:54:32.816368Z",
     "iopub.status.busy": "2025-05-03T14:54:32.816048Z",
     "iopub.status.idle": "2025-05-03T14:54:32.819701Z",
     "shell.execute_reply": "2025-05-03T14:54:32.819272Z"
    },
    "papermill": {
     "duration": 0.006479,
     "end_time": "2025-05-03T14:54:32.820523",
     "exception": false,
     "start_time": "2025-05-03T14:54:32.814044",
     "status": "completed"
    },
    "tags": []
   },
   "outputs": [
    {
     "name": "stdout",
     "output_type": "stream",
     "text": [
      "0 files have been deleted.\n"
     ]
    }
   ],
   "source": [
    "files = glob.glob(Output_Dir + '/*.jpg')\n",
    "for f in files:\n",
    "    os.remove(f)\n",
    "print(str(len(files)) + \" files have been deleted.\")"
   ]
  },
  {
   "cell_type": "markdown",
   "id": "c031f437",
   "metadata": {
    "papermill": {
     "duration": 0.002401,
     "end_time": "2025-05-03T14:54:32.824716",
     "exception": false,
     "start_time": "2025-05-03T14:54:32.822315",
     "status": "completed"
    },
    "tags": []
   },
   "source": [
    "### Load files and resize"
   ]
  },
  {
   "cell_type": "code",
   "execution_count": 5,
   "id": "53c845d5",
   "metadata": {
    "execution": {
     "iopub.execute_input": "2025-05-03T14:54:32.828959Z",
     "iopub.status.busy": "2025-05-03T14:54:32.828561Z",
     "iopub.status.idle": "2025-05-03T14:54:33.782848Z",
     "shell.execute_reply": "2025-05-03T14:54:33.782277Z"
    },
    "papermill": {
     "duration": 0.957296,
     "end_time": "2025-05-03T14:54:33.783749",
     "exception": false,
     "start_time": "2025-05-03T14:54:32.826453",
     "status": "completed"
    },
    "tags": []
   },
   "outputs": [
    {
     "name": "stdout",
     "output_type": "stream",
     "text": [
      "0 data_raw_all/5.6_1f48d6bd3fc40354b9253b4352c4c554.jpg\n"
     ]
    },
    {
     "name": "stdout",
     "output_type": "stream",
     "text": [
      "500 data_raw_all/6.6_32f8960168ad68dd0ce3eb6e9365fa1b.jpg\n"
     ]
    },
    {
     "name": "stdout",
     "output_type": "stream",
     "text": [
      "1000 data_raw_all/3.8_1884_zeiger4_2019-06-04T110009.jpg\n"
     ]
    },
    {
     "name": "stdout",
     "output_type": "stream",
     "text": [
      "1500 data_raw_all/0.0_e0941e6e3c5bf5a31d46bc38cb65648f.jpg\n"
     ]
    }
   ],
   "source": [
    "import hashlib\n",
    "\n",
    "files = glob.glob(Input_Dir + '/*.jpg')\n",
    "hashes={}\n",
    "for i,aktfile in enumerate(files):\n",
    "    if i%500==0:\n",
    "        print(i, aktfile)\n",
    "    test_image = Image.open(aktfile)\n",
    "    hash=hashlib.sha256(test_image.tobytes()).hexdigest()\n",
    "    if hash in hashes:\n",
    "        hashes[hash].append(aktfile)\n",
    "    else:\n",
    "        hashes[hash]=[aktfile]\n",
    "    test_image = test_image.resize((target_size_x, target_size_y), Image.LANCZOS)\n",
    "    base=os.path.basename(aktfile)\n",
    "    save_name = Output_Dir + '/' + base\n",
    "    test_image.save(save_name, \"JPEG\", quality = 100)"
   ]
  },
  {
   "cell_type": "markdown",
   "id": "5fda779d",
   "metadata": {
    "papermill": {
     "duration": 0.001802,
     "end_time": "2025-05-03T14:54:33.787843",
     "exception": false,
     "start_time": "2025-05-03T14:54:33.786041",
     "status": "completed"
    },
    "tags": []
   },
   "source": [
    "### Remove duplicate files"
   ]
  },
  {
   "cell_type": "code",
   "execution_count": 6,
   "id": "a40fe405",
   "metadata": {
    "execution": {
     "iopub.execute_input": "2025-05-03T14:54:33.792492Z",
     "iopub.status.busy": "2025-05-03T14:54:33.792300Z",
     "iopub.status.idle": "2025-05-03T14:54:33.795795Z",
     "shell.execute_reply": "2025-05-03T14:54:33.795335Z"
    },
    "papermill": {
     "duration": 0.006794,
     "end_time": "2025-05-03T14:54:33.796582",
     "exception": false,
     "start_time": "2025-05-03T14:54:33.789788",
     "status": "completed"
    },
    "tags": []
   },
   "outputs": [],
   "source": [
    "# duplicate files are a risk to the metrics, they pollute the validation dataset\n",
    "for hash in hashes:\n",
    "    if len(hashes[hash])>1:\n",
    "        print(hashes[hash])    \n",
    "        for duplicate in hashes[hash][1:]:\n",
    "            # remove all except the first\n",
    "            os.remove(duplicate)    "
   ]
  }
 ],
 "metadata": {
  "kernelspec": {
   "display_name": "tflite2",
   "language": "python",
   "name": "python3"
  },
  "language_info": {
   "codemirror_mode": {
    "name": "ipython",
    "version": 3
   },
   "file_extension": ".py",
   "mimetype": "text/x-python",
   "name": "python",
   "nbconvert_exporter": "python",
   "pygments_lexer": "ipython3",
   "version": "3.11.12"
  },
  "papermill": {
   "default_parameters": {},
   "duration": 2.16143,
   "end_time": "2025-05-03T14:54:33.912712",
   "environment_variables": {},
   "exception": null,
   "input_path": "01_Image-Preparation.ipynb",
   "output_path": "models_tmp/01_Image-Preparation_result_v1700.ipynb",
   "parameters": {
    "Input_Dir": "data_raw_all",
    "Output_Dir": "data_resize_all"
   },
   "start_time": "2025-05-03T14:54:31.751282",
   "version": "2.6.0"
  }
 },
 "nbformat": 4,
 "nbformat_minor": 5
}