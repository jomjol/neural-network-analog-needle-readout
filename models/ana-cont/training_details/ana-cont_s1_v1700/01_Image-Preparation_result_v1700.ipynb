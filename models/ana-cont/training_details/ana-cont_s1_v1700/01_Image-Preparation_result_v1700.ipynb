{
 "cells": [
  {
   "cell_type": "markdown",
   "id": "4d4dc933",
   "metadata": {
    "papermill": {
     "duration": 0.002064,
     "end_time": "2025-05-04T17:35:24.327981",
     "exception": false,
     "start_time": "2025-05-04T17:35:24.325917",
     "status": "completed"
    },
    "tags": []
   },
   "source": [
    "## Image preparation\n",
    "\n",
    "The below code can be used to transform the images in an input directory (Input_Dir) \n",
    "to the right size (e.g. 32x32 pixels) into an output directory (Output_Dir).\n",
    "\n",
    "### Note\n",
    "Duplicates will be removed by evaluating the file hash"
   ]
  },
  {
   "cell_type": "markdown",
   "id": "7736f055",
   "metadata": {
    "papermill": {
     "duration": 0.001426,
     "end_time": "2025-05-04T17:35:24.331280",
     "exception": false,
     "start_time": "2025-05-04T17:35:24.329854",
     "status": "completed"
    },
    "tags": []
   },
   "source": [
    "### Basic Parameter"
   ]
  },
  {
   "cell_type": "code",
   "execution_count": 1,
   "id": "e2395d49",
   "metadata": {
    "execution": {
     "iopub.execute_input": "2025-05-04T17:35:24.335535Z",
     "iopub.status.busy": "2025-05-04T17:35:24.335089Z",
     "iopub.status.idle": "2025-05-04T17:35:24.340736Z",
     "shell.execute_reply": "2025-05-04T17:35:24.340288Z"
    },
    "papermill": {
     "duration": 0.008929,
     "end_time": "2025-05-04T17:35:24.341780",
     "exception": false,
     "start_time": "2025-05-04T17:35:24.332851",
     "status": "completed"
    },
    "tags": [
     "parameters"
    ]
   },
   "outputs": [],
   "source": [
    "# Parameters\n",
    "Input_Dir = 'data_raw_all'\n",
    "Output_Dir = 'data_resize_all'\n",
    "\n",
    "# Target image size\n",
    "target_size_x = 32\n",
    "target_size_y = 32"
   ]
  },
  {
   "cell_type": "code",
   "execution_count": 2,
   "id": "aabc44c7",
   "metadata": {
    "execution": {
     "iopub.execute_input": "2025-05-04T17:35:24.345629Z",
     "iopub.status.busy": "2025-05-04T17:35:24.345449Z",
     "iopub.status.idle": "2025-05-04T17:35:24.348094Z",
     "shell.execute_reply": "2025-05-04T17:35:24.347541Z"
    },
    "papermill": {
     "duration": 0.005493,
     "end_time": "2025-05-04T17:35:24.348984",
     "exception": false,
     "start_time": "2025-05-04T17:35:24.343491",
     "status": "completed"
    },
    "tags": [
     "injected-parameters"
    ]
   },
   "outputs": [],
   "source": [
    "# Parameters\n",
    "Input_Dir = \"data_raw_all\"\n",
    "Output_Dir = \"data_resize_all\"\n"
   ]
  },
  {
   "cell_type": "markdown",
   "id": "6a454254",
   "metadata": {
    "papermill": {
     "duration": 0.001466,
     "end_time": "2025-05-04T17:35:24.352124",
     "exception": false,
     "start_time": "2025-05-04T17:35:24.350658",
     "status": "completed"
    },
    "tags": []
   },
   "source": [
    "### Load libraries and defaults"
   ]
  },
  {
   "cell_type": "code",
   "execution_count": 3,
   "id": "ee512e2c",
   "metadata": {
    "execution": {
     "iopub.execute_input": "2025-05-04T17:35:24.356092Z",
     "iopub.status.busy": "2025-05-04T17:35:24.355751Z",
     "iopub.status.idle": "2025-05-04T17:35:24.410437Z",
     "shell.execute_reply": "2025-05-04T17:35:24.410022Z"
    },
    "papermill": {
     "duration": 0.057618,
     "end_time": "2025-05-04T17:35:24.411328",
     "exception": false,
     "start_time": "2025-05-04T17:35:24.353710",
     "status": "completed"
    },
    "tags": []
   },
   "outputs": [],
   "source": [
    "import glob\n",
    "import os\n",
    "from pathlib import Path\n",
    "\n",
    "from PIL import Image\n"
   ]
  },
  {
   "cell_type": "markdown",
   "id": "b85e5daf",
   "metadata": {
    "papermill": {
     "duration": 0.00154,
     "end_time": "2025-05-04T17:35:24.414601",
     "exception": false,
     "start_time": "2025-05-04T17:35:24.413061",
     "status": "completed"
    },
    "tags": []
   },
   "source": [
    "### Delete output directory"
   ]
  },
  {
   "cell_type": "code",
   "execution_count": 4,
   "id": "74e2e5c7",
   "metadata": {
    "execution": {
     "iopub.execute_input": "2025-05-04T17:35:24.418553Z",
     "iopub.status.busy": "2025-05-04T17:35:24.418322Z",
     "iopub.status.idle": "2025-05-04T17:35:24.422356Z",
     "shell.execute_reply": "2025-05-04T17:35:24.421888Z"
    },
    "papermill": {
     "duration": 0.00695,
     "end_time": "2025-05-04T17:35:24.423170",
     "exception": false,
     "start_time": "2025-05-04T17:35:24.416220",
     "status": "completed"
    },
    "tags": []
   },
   "outputs": [
    {
     "name": "stdout",
     "output_type": "stream",
     "text": [
      "0 files have been deleted.\n"
     ]
    }
   ],
   "source": [
    "files = glob.glob(Output_Dir + '/*.jpg')\n",
    "for f in files:\n",
    "    os.remove(f)\n",
    "print(str(len(files)) + \" files have been deleted.\")"
   ]
  },
  {
   "cell_type": "markdown",
   "id": "04af252b",
   "metadata": {
    "papermill": {
     "duration": 0.002403,
     "end_time": "2025-05-04T17:35:24.427342",
     "exception": false,
     "start_time": "2025-05-04T17:35:24.424939",
     "status": "completed"
    },
    "tags": []
   },
   "source": [
    "### Load files and resize"
   ]
  },
  {
   "cell_type": "code",
   "execution_count": 5,
   "id": "0ff63d16",
   "metadata": {
    "execution": {
     "iopub.execute_input": "2025-05-04T17:35:24.431316Z",
     "iopub.status.busy": "2025-05-04T17:35:24.431152Z",
     "iopub.status.idle": "2025-05-04T17:35:25.406619Z",
     "shell.execute_reply": "2025-05-04T17:35:25.406014Z"
    },
    "papermill": {
     "duration": 0.978509,
     "end_time": "2025-05-04T17:35:25.407551",
     "exception": false,
     "start_time": "2025-05-04T17:35:24.429042",
     "status": "completed"
    },
    "tags": []
   },
   "outputs": [
    {
     "name": "stdout",
     "output_type": "stream",
     "text": [
      "0 data_raw_all/5.6_1f48d6bd3fc40354b9253b4352c4c554.jpg\n"
     ]
    },
    {
     "name": "stdout",
     "output_type": "stream",
     "text": [
      "500 data_raw_all/6.6_32f8960168ad68dd0ce3eb6e9365fa1b.jpg\n"
     ]
    },
    {
     "name": "stdout",
     "output_type": "stream",
     "text": [
      "1000 data_raw_all/7.1.jpg\n"
     ]
    },
    {
     "name": "stdout",
     "output_type": "stream",
     "text": [
      "1500 data_raw_all/0.0_e0941e6e3c5bf5a31d46bc38cb65648f.jpg\n"
     ]
    }
   ],
   "source": [
    "import hashlib\n",
    "\n",
    "files = glob.glob(Input_Dir + '/*.jpg')\n",
    "hashes={}\n",
    "for i,aktfile in enumerate(files):\n",
    "    if i%500==0:\n",
    "        print(i, aktfile)\n",
    "    test_image = Image.open(aktfile)\n",
    "    hash=hashlib.sha256(test_image.tobytes()).hexdigest()\n",
    "    if hash in hashes:\n",
    "        hashes[hash].append(aktfile)\n",
    "    else:\n",
    "        hashes[hash]=[aktfile]\n",
    "    test_image = test_image.resize((target_size_x, target_size_y), Image.LANCZOS)\n",
    "    base=os.path.basename(aktfile)\n",
    "    save_name = Output_Dir + '/' + base\n",
    "    test_image.save(save_name, \"JPEG\", quality = 100)"
   ]
  },
  {
   "cell_type": "markdown",
   "id": "c361e9de",
   "metadata": {
    "papermill": {
     "duration": 0.00176,
     "end_time": "2025-05-04T17:35:25.411580",
     "exception": false,
     "start_time": "2025-05-04T17:35:25.409820",
     "status": "completed"
    },
    "tags": []
   },
   "source": [
    "### Remove duplicate files"
   ]
  },
  {
   "cell_type": "code",
   "execution_count": 6,
   "id": "cdb9e238",
   "metadata": {
    "execution": {
     "iopub.execute_input": "2025-05-04T17:35:25.416275Z",
     "iopub.status.busy": "2025-05-04T17:35:25.415833Z",
     "iopub.status.idle": "2025-05-04T17:35:25.419410Z",
     "shell.execute_reply": "2025-05-04T17:35:25.418944Z"
    },
    "papermill": {
     "duration": 0.006832,
     "end_time": "2025-05-04T17:35:25.420239",
     "exception": false,
     "start_time": "2025-05-04T17:35:25.413407",
     "status": "completed"
    },
    "tags": []
   },
   "outputs": [],
   "source": [
    "# duplicate files are a risk to the metrics, they pollute the validation dataset\n",
    "for hash in hashes:\n",
    "    if len(hashes[hash])>1:\n",
    "        print(hashes[hash])    \n",
    "        for duplicate in hashes[hash][1:]:\n",
    "            # remove all except the first\n",
    "            os.remove(duplicate)    "
   ]
  }
 ],
 "metadata": {
  "kernelspec": {
   "display_name": "tflite2",
   "language": "python",
   "name": "python3"
  },
  "language_info": {
   "codemirror_mode": {
    "name": "ipython",
    "version": 3
   },
   "file_extension": ".py",
   "mimetype": "text/x-python",
   "name": "python",
   "nbconvert_exporter": "python",
   "pygments_lexer": "ipython3",
   "version": "3.11.12"
  },
  "papermill": {
   "default_parameters": {},
   "duration": 2.415899,
   "end_time": "2025-05-04T17:35:25.536493",
   "environment_variables": {},
   "exception": null,
   "input_path": "01_Image-Preparation.ipynb",
   "output_path": "models_tmp/01_Image-Preparation_result_v1700.ipynb",
   "parameters": {
    "Input_Dir": "data_raw_all",
    "Output_Dir": "data_resize_all"
   },
   "start_time": "2025-05-04T17:35:23.120594",
   "version": "2.6.0"
  }
 },
 "nbformat": 4,
 "nbformat_minor": 5
}