{
 "cells": [
  {
   "cell_type": "markdown",
   "id": "33033c36",
   "metadata": {
    "papermill": {
     "duration": 0.002083,
     "end_time": "2025-05-04T05:57:20.823309",
     "exception": false,
     "start_time": "2025-05-04T05:57:20.821226",
     "status": "completed"
    },
    "tags": []
   },
   "source": [
    "## Image preparation\n",
    "\n",
    "The below code can be used to transform the images in an input directory (Input_Dir) \n",
    "to the right size (e.g. 32x32 pixels) into an output directory (Output_Dir).\n",
    "\n",
    "### Note\n",
    "Duplicates will be removed by evaluating the file hash"
   ]
  },
  {
   "cell_type": "markdown",
   "id": "270cc27d",
   "metadata": {
    "papermill": {
     "duration": 0.00144,
     "end_time": "2025-05-04T05:57:20.826589",
     "exception": false,
     "start_time": "2025-05-04T05:57:20.825149",
     "status": "completed"
    },
    "tags": []
   },
   "source": [
    "### Basic Parameter"
   ]
  },
  {
   "cell_type": "code",
   "execution_count": 1,
   "id": "522528d0",
   "metadata": {
    "execution": {
     "iopub.execute_input": "2025-05-04T05:57:20.830332Z",
     "iopub.status.busy": "2025-05-04T05:57:20.830160Z",
     "iopub.status.idle": "2025-05-04T05:57:20.835248Z",
     "shell.execute_reply": "2025-05-04T05:57:20.834825Z"
    },
    "papermill": {
     "duration": 0.008009,
     "end_time": "2025-05-04T05:57:20.836157",
     "exception": false,
     "start_time": "2025-05-04T05:57:20.828148",
     "status": "completed"
    },
    "tags": [
     "parameters"
    ]
   },
   "outputs": [],
   "source": [
    "# Parameters\n",
    "Input_Dir = 'data_raw_all'\n",
    "Output_Dir = 'data_resize_all'\n",
    "\n",
    "# Target image size\n",
    "target_size_x = 32\n",
    "target_size_y = 32"
   ]
  },
  {
   "cell_type": "code",
   "execution_count": 2,
   "id": "dff673a8",
   "metadata": {
    "execution": {
     "iopub.execute_input": "2025-05-04T05:57:20.840087Z",
     "iopub.status.busy": "2025-05-04T05:57:20.839759Z",
     "iopub.status.idle": "2025-05-04T05:57:20.842437Z",
     "shell.execute_reply": "2025-05-04T05:57:20.841893Z"
    },
    "papermill": {
     "duration": 0.005532,
     "end_time": "2025-05-04T05:57:20.843337",
     "exception": false,
     "start_time": "2025-05-04T05:57:20.837805",
     "status": "completed"
    },
    "tags": [
     "injected-parameters"
    ]
   },
   "outputs": [],
   "source": [
    "# Parameters\n",
    "Input_Dir = \"data_raw_all\"\n",
    "Output_Dir = \"data_resize_all\"\n"
   ]
  },
  {
   "cell_type": "markdown",
   "id": "58dd08e6",
   "metadata": {
    "papermill": {
     "duration": 0.001535,
     "end_time": "2025-05-04T05:57:20.846544",
     "exception": false,
     "start_time": "2025-05-04T05:57:20.845009",
     "status": "completed"
    },
    "tags": []
   },
   "source": [
    "### Load libraries and defaults"
   ]
  },
  {
   "cell_type": "code",
   "execution_count": 3,
   "id": "084945db",
   "metadata": {
    "execution": {
     "iopub.execute_input": "2025-05-04T05:57:20.850568Z",
     "iopub.status.busy": "2025-05-04T05:57:20.850235Z",
     "iopub.status.idle": "2025-05-04T05:57:20.880290Z",
     "shell.execute_reply": "2025-05-04T05:57:20.879871Z"
    },
    "papermill": {
     "duration": 0.03299,
     "end_time": "2025-05-04T05:57:20.881166",
     "exception": false,
     "start_time": "2025-05-04T05:57:20.848176",
     "status": "completed"
    },
    "tags": []
   },
   "outputs": [],
   "source": [
    "import glob\n",
    "import os\n",
    "from pathlib import Path\n",
    "\n",
    "from PIL import Image\n"
   ]
  },
  {
   "cell_type": "markdown",
   "id": "bb5bd650",
   "metadata": {
    "papermill": {
     "duration": 0.001543,
     "end_time": "2025-05-04T05:57:20.884405",
     "exception": false,
     "start_time": "2025-05-04T05:57:20.882862",
     "status": "completed"
    },
    "tags": []
   },
   "source": [
    "### Delete output directory"
   ]
  },
  {
   "cell_type": "code",
   "execution_count": 4,
   "id": "d2590d7a",
   "metadata": {
    "execution": {
     "iopub.execute_input": "2025-05-04T05:57:20.888386Z",
     "iopub.status.busy": "2025-05-04T05:57:20.888072Z",
     "iopub.status.idle": "2025-05-04T05:57:20.891930Z",
     "shell.execute_reply": "2025-05-04T05:57:20.891345Z"
    },
    "papermill": {
     "duration": 0.006739,
     "end_time": "2025-05-04T05:57:20.892789",
     "exception": false,
     "start_time": "2025-05-04T05:57:20.886050",
     "status": "completed"
    },
    "tags": []
   },
   "outputs": [
    {
     "name": "stdout",
     "output_type": "stream",
     "text": [
      "0 files have been deleted.\n"
     ]
    }
   ],
   "source": [
    "files = glob.glob(Output_Dir + '/*.jpg')\n",
    "for f in files:\n",
    "    os.remove(f)\n",
    "print(str(len(files)) + \" files have been deleted.\")"
   ]
  },
  {
   "cell_type": "markdown",
   "id": "fa85475a",
   "metadata": {
    "papermill": {
     "duration": 0.002361,
     "end_time": "2025-05-04T05:57:20.896939",
     "exception": false,
     "start_time": "2025-05-04T05:57:20.894578",
     "status": "completed"
    },
    "tags": []
   },
   "source": [
    "### Load files and resize"
   ]
  },
  {
   "cell_type": "code",
   "execution_count": 5,
   "id": "efc0e928",
   "metadata": {
    "execution": {
     "iopub.execute_input": "2025-05-04T05:57:20.900931Z",
     "iopub.status.busy": "2025-05-04T05:57:20.900729Z",
     "iopub.status.idle": "2025-05-04T05:57:21.859627Z",
     "shell.execute_reply": "2025-05-04T05:57:21.859089Z"
    },
    "papermill": {
     "duration": 0.961912,
     "end_time": "2025-05-04T05:57:21.860545",
     "exception": false,
     "start_time": "2025-05-04T05:57:20.898633",
     "status": "completed"
    },
    "tags": []
   },
   "outputs": [
    {
     "name": "stdout",
     "output_type": "stream",
     "text": [
      "0 data_raw_all/5.6_1f48d6bd3fc40354b9253b4352c4c554.jpg\n"
     ]
    },
    {
     "name": "stdout",
     "output_type": "stream",
     "text": [
      "500 data_raw_all/6.6_32f8960168ad68dd0ce3eb6e9365fa1b.jpg\n"
     ]
    },
    {
     "name": "stdout",
     "output_type": "stream",
     "text": [
      "1000 data_raw_all/7.1.jpg\n"
     ]
    },
    {
     "name": "stdout",
     "output_type": "stream",
     "text": [
      "1500 data_raw_all/0.0_e0941e6e3c5bf5a31d46bc38cb65648f.jpg\n"
     ]
    }
   ],
   "source": [
    "import hashlib\n",
    "\n",
    "files = glob.glob(Input_Dir + '/*.jpg')\n",
    "hashes={}\n",
    "for i,aktfile in enumerate(files):\n",
    "    if i%500==0:\n",
    "        print(i, aktfile)\n",
    "    test_image = Image.open(aktfile)\n",
    "    hash=hashlib.sha256(test_image.tobytes()).hexdigest()\n",
    "    if hash in hashes:\n",
    "        hashes[hash].append(aktfile)\n",
    "    else:\n",
    "        hashes[hash]=[aktfile]\n",
    "    test_image = test_image.resize((target_size_x, target_size_y), Image.LANCZOS)\n",
    "    base=os.path.basename(aktfile)\n",
    "    save_name = Output_Dir + '/' + base\n",
    "    test_image.save(save_name, \"JPEG\", quality = 100)"
   ]
  },
  {
   "cell_type": "markdown",
   "id": "39e77f00",
   "metadata": {
    "papermill": {
     "duration": 0.001774,
     "end_time": "2025-05-04T05:57:21.864551",
     "exception": false,
     "start_time": "2025-05-04T05:57:21.862777",
     "status": "completed"
    },
    "tags": []
   },
   "source": [
    "### Remove duplicate files"
   ]
  },
  {
   "cell_type": "code",
   "execution_count": 6,
   "id": "812a924d",
   "metadata": {
    "execution": {
     "iopub.execute_input": "2025-05-04T05:57:21.869227Z",
     "iopub.status.busy": "2025-05-04T05:57:21.868871Z",
     "iopub.status.idle": "2025-05-04T05:57:21.872088Z",
     "shell.execute_reply": "2025-05-04T05:57:21.871663Z"
    },
    "papermill": {
     "duration": 0.006456,
     "end_time": "2025-05-04T05:57:21.872855",
     "exception": false,
     "start_time": "2025-05-04T05:57:21.866399",
     "status": "completed"
    },
    "tags": []
   },
   "outputs": [],
   "source": [
    "# duplicate files are a risk to the metrics, they pollute the validation dataset\n",
    "for hash in hashes:\n",
    "    if len(hashes[hash])>1:\n",
    "        print(hashes[hash])    \n",
    "        for duplicate in hashes[hash][1:]:\n",
    "            # remove all except the first\n",
    "            os.remove(duplicate)    "
   ]
  }
 ],
 "metadata": {
  "kernelspec": {
   "display_name": "tflite2",
   "language": "python",
   "name": "python3"
  },
  "language_info": {
   "codemirror_mode": {
    "name": "ipython",
    "version": 3
   },
   "file_extension": ".py",
   "mimetype": "text/x-python",
   "name": "python",
   "nbconvert_exporter": "python",
   "pygments_lexer": "ipython3",
   "version": "3.11.12"
  },
  "papermill": {
   "default_parameters": {},
   "duration": 2.101895,
   "end_time": "2025-05-04T05:57:21.989716",
   "environment_variables": {},
   "exception": null,
   "input_path": "01_Image-Preparation.ipynb",
   "output_path": "models_tmp/01_Image-Preparation_result_v1700.ipynb",
   "parameters": {
    "Input_Dir": "data_raw_all",
    "Output_Dir": "data_resize_all"
   },
   "start_time": "2025-05-04T05:57:19.887821",
   "version": "2.6.0"
  }
 },
 "nbformat": 4,
 "nbformat_minor": 5
}