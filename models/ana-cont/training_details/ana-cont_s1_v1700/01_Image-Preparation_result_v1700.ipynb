{
 "cells": [
  {
   "cell_type": "markdown",
   "id": "4d4382a3",
   "metadata": {
    "papermill": {
     "duration": 0.002016,
     "end_time": "2025-05-03T14:07:36.284767",
     "exception": false,
     "start_time": "2025-05-03T14:07:36.282751",
     "status": "completed"
    },
    "tags": []
   },
   "source": [
    "## Image preparation\n",
    "\n",
    "The below code can be used to transform the images in an input directory (Input_Dir) \n",
    "to the right size (e.g. 32x32 pixels) into an output directory (Output_Dir).\n",
    "\n",
    "### Note\n",
    "Duplicates will be removed by evaluating the file hash"
   ]
  },
  {
   "cell_type": "markdown",
   "id": "901e462a",
   "metadata": {
    "papermill": {
     "duration": 0.001422,
     "end_time": "2025-05-03T14:07:36.288006",
     "exception": false,
     "start_time": "2025-05-03T14:07:36.286584",
     "status": "completed"
    },
    "tags": []
   },
   "source": [
    "### Basic Parameter"
   ]
  },
  {
   "cell_type": "code",
   "execution_count": 1,
   "id": "6fc596e7",
   "metadata": {
    "execution": {
     "iopub.execute_input": "2025-05-03T14:07:36.291996Z",
     "iopub.status.busy": "2025-05-03T14:07:36.291633Z",
     "iopub.status.idle": "2025-05-03T14:07:36.296981Z",
     "shell.execute_reply": "2025-05-03T14:07:36.296438Z"
    },
    "papermill": {
     "duration": 0.008317,
     "end_time": "2025-05-03T14:07:36.297914",
     "exception": false,
     "start_time": "2025-05-03T14:07:36.289597",
     "status": "completed"
    },
    "tags": [
     "parameters"
    ]
   },
   "outputs": [],
   "source": [
    "# Parameters\n",
    "Input_Dir = 'data_raw_all'\n",
    "Output_Dir = 'data_resize_all'\n",
    "\n",
    "# Target image size\n",
    "target_size_x = 32\n",
    "target_size_y = 32"
   ]
  },
  {
   "cell_type": "code",
   "execution_count": 2,
   "id": "18414b53",
   "metadata": {
    "execution": {
     "iopub.execute_input": "2025-05-03T14:07:36.301787Z",
     "iopub.status.busy": "2025-05-03T14:07:36.301619Z",
     "iopub.status.idle": "2025-05-03T14:07:36.304045Z",
     "shell.execute_reply": "2025-05-03T14:07:36.303613Z"
    },
    "papermill": {
     "duration": 0.005312,
     "end_time": "2025-05-03T14:07:36.304906",
     "exception": false,
     "start_time": "2025-05-03T14:07:36.299594",
     "status": "completed"
    },
    "tags": [
     "injected-parameters"
    ]
   },
   "outputs": [],
   "source": [
    "# Parameters\n",
    "Input_Dir = \"data_raw_all\"\n",
    "Output_Dir = \"data_resize_all\"\n"
   ]
  },
  {
   "cell_type": "markdown",
   "id": "298d43d6",
   "metadata": {
    "papermill": {
     "duration": 0.001469,
     "end_time": "2025-05-03T14:07:36.308018",
     "exception": false,
     "start_time": "2025-05-03T14:07:36.306549",
     "status": "completed"
    },
    "tags": []
   },
   "source": [
    "### Load libraries and defaults"
   ]
  },
  {
   "cell_type": "code",
   "execution_count": 3,
   "id": "2663b043",
   "metadata": {
    "execution": {
     "iopub.execute_input": "2025-05-03T14:07:36.312030Z",
     "iopub.status.busy": "2025-05-03T14:07:36.311694Z",
     "iopub.status.idle": "2025-05-03T14:07:36.341707Z",
     "shell.execute_reply": "2025-05-03T14:07:36.341126Z"
    },
    "papermill": {
     "duration": 0.032933,
     "end_time": "2025-05-03T14:07:36.342590",
     "exception": false,
     "start_time": "2025-05-03T14:07:36.309657",
     "status": "completed"
    },
    "tags": []
   },
   "outputs": [],
   "source": [
    "import glob\n",
    "import os\n",
    "from pathlib import Path\n",
    "\n",
    "from PIL import Image\n"
   ]
  },
  {
   "cell_type": "markdown",
   "id": "16d0e6a0",
   "metadata": {
    "papermill": {
     "duration": 0.001512,
     "end_time": "2025-05-03T14:07:36.345777",
     "exception": false,
     "start_time": "2025-05-03T14:07:36.344265",
     "status": "completed"
    },
    "tags": []
   },
   "source": [
    "### Delete output directory"
   ]
  },
  {
   "cell_type": "code",
   "execution_count": 4,
   "id": "45e718d9",
   "metadata": {
    "execution": {
     "iopub.execute_input": "2025-05-03T14:07:36.349549Z",
     "iopub.status.busy": "2025-05-03T14:07:36.349361Z",
     "iopub.status.idle": "2025-05-03T14:07:36.353193Z",
     "shell.execute_reply": "2025-05-03T14:07:36.352626Z"
    },
    "papermill": {
     "duration": 0.006685,
     "end_time": "2025-05-03T14:07:36.354065",
     "exception": false,
     "start_time": "2025-05-03T14:07:36.347380",
     "status": "completed"
    },
    "tags": []
   },
   "outputs": [
    {
     "name": "stdout",
     "output_type": "stream",
     "text": [
      "0 files have been deleted.\n"
     ]
    }
   ],
   "source": [
    "files = glob.glob(Output_Dir + '/*.jpg')\n",
    "for f in files:\n",
    "    os.remove(f)\n",
    "print(str(len(files)) + \" files have been deleted.\")"
   ]
  },
  {
   "cell_type": "markdown",
   "id": "193f599a",
   "metadata": {
    "papermill": {
     "duration": 0.0024,
     "end_time": "2025-05-03T14:07:36.358251",
     "exception": false,
     "start_time": "2025-05-03T14:07:36.355851",
     "status": "completed"
    },
    "tags": []
   },
   "source": [
    "### Load files and resize"
   ]
  },
  {
   "cell_type": "code",
   "execution_count": 5,
   "id": "76b43c07",
   "metadata": {
    "execution": {
     "iopub.execute_input": "2025-05-03T14:07:36.362355Z",
     "iopub.status.busy": "2025-05-03T14:07:36.362029Z",
     "iopub.status.idle": "2025-05-03T14:07:37.313717Z",
     "shell.execute_reply": "2025-05-03T14:07:37.313192Z"
    },
    "papermill": {
     "duration": 0.95473,
     "end_time": "2025-05-03T14:07:37.314673",
     "exception": false,
     "start_time": "2025-05-03T14:07:36.359943",
     "status": "completed"
    },
    "tags": []
   },
   "outputs": [
    {
     "name": "stdout",
     "output_type": "stream",
     "text": [
      "0 data_raw_all/5.6_1f48d6bd3fc40354b9253b4352c4c554.jpg\n"
     ]
    },
    {
     "name": "stdout",
     "output_type": "stream",
     "text": [
      "500 data_raw_all/6.6_32f8960168ad68dd0ce3eb6e9365fa1b.jpg\n"
     ]
    },
    {
     "name": "stdout",
     "output_type": "stream",
     "text": [
      "1000 data_raw_all/3.8_1884_zeiger4_2019-06-04T110009.jpg\n"
     ]
    },
    {
     "name": "stdout",
     "output_type": "stream",
     "text": [
      "1500 data_raw_all/0.0_e0941e6e3c5bf5a31d46bc38cb65648f.jpg\n"
     ]
    }
   ],
   "source": [
    "import hashlib\n",
    "\n",
    "files = glob.glob(Input_Dir + '/*.jpg')\n",
    "hashes={}\n",
    "for i,aktfile in enumerate(files):\n",
    "    if i%500==0:\n",
    "        print(i, aktfile)\n",
    "    test_image = Image.open(aktfile)\n",
    "    hash=hashlib.sha256(test_image.tobytes()).hexdigest()\n",
    "    if hash in hashes:\n",
    "        hashes[hash].append(aktfile)\n",
    "    else:\n",
    "        hashes[hash]=[aktfile]\n",
    "    test_image = test_image.resize((target_size_x, target_size_y), Image.LANCZOS)\n",
    "    base=os.path.basename(aktfile)\n",
    "    save_name = Output_Dir + '/' + base\n",
    "    test_image.save(save_name, \"JPEG\", quality = 100)"
   ]
  },
  {
   "cell_type": "markdown",
   "id": "2e878e99",
   "metadata": {
    "papermill": {
     "duration": 0.001758,
     "end_time": "2025-05-03T14:07:37.318616",
     "exception": false,
     "start_time": "2025-05-03T14:07:37.316858",
     "status": "completed"
    },
    "tags": []
   },
   "source": [
    "### Remove duplicate files"
   ]
  },
  {
   "cell_type": "code",
   "execution_count": 6,
   "id": "621a52a5",
   "metadata": {
    "execution": {
     "iopub.execute_input": "2025-05-03T14:07:37.323224Z",
     "iopub.status.busy": "2025-05-03T14:07:37.322854Z",
     "iopub.status.idle": "2025-05-03T14:07:37.326311Z",
     "shell.execute_reply": "2025-05-03T14:07:37.325860Z"
    },
    "papermill": {
     "duration": 0.00662,
     "end_time": "2025-05-03T14:07:37.327105",
     "exception": false,
     "start_time": "2025-05-03T14:07:37.320485",
     "status": "completed"
    },
    "tags": []
   },
   "outputs": [],
   "source": [
    "# duplicate files are a risk to the metrics, they pollute the validation dataset\n",
    "for hash in hashes:\n",
    "    if len(hashes[hash])>1:\n",
    "        print(hashes[hash])    \n",
    "        for duplicate in hashes[hash][1:]:\n",
    "            # remove all except the first\n",
    "            os.remove(duplicate)    "
   ]
  }
 ],
 "metadata": {
  "kernelspec": {
   "display_name": "tflite2",
   "language": "python",
   "name": "python3"
  },
  "language_info": {
   "codemirror_mode": {
    "name": "ipython",
    "version": 3
   },
   "file_extension": ".py",
   "mimetype": "text/x-python",
   "name": "python",
   "nbconvert_exporter": "python",
   "pygments_lexer": "ipython3",
   "version": "3.11.12"
  },
  "papermill": {
   "default_parameters": {},
   "duration": 2.143636,
   "end_time": "2025-05-03T14:07:37.444280",
   "environment_variables": {},
   "exception": null,
   "input_path": "01_Image-Preparation.ipynb",
   "output_path": "models_tmp/01_Image-Preparation_result_v1700.ipynb",
   "parameters": {
    "Input_Dir": "data_raw_all",
    "Output_Dir": "data_resize_all"
   },
   "start_time": "2025-05-03T14:07:35.300644",
   "version": "2.6.0"
  }
 },
 "nbformat": 4,
 "nbformat_minor": 5
}