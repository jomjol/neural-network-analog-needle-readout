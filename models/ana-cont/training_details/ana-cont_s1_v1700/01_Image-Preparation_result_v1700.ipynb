{
 "cells": [
  {
   "cell_type": "markdown",
   "id": "54dd5638",
   "metadata": {
    "papermill": {
     "duration": 0.002158,
     "end_time": "2025-05-04T17:13:47.187729",
     "exception": false,
     "start_time": "2025-05-04T17:13:47.185571",
     "status": "completed"
    },
    "tags": []
   },
   "source": [
    "## Image preparation\n",
    "\n",
    "The below code can be used to transform the images in an input directory (Input_Dir) \n",
    "to the right size (e.g. 32x32 pixels) into an output directory (Output_Dir).\n",
    "\n",
    "### Note\n",
    "Duplicates will be removed by evaluating the file hash"
   ]
  },
  {
   "cell_type": "markdown",
   "id": "ec909eec",
   "metadata": {
    "papermill": {
     "duration": 0.001546,
     "end_time": "2025-05-04T17:13:47.191196",
     "exception": false,
     "start_time": "2025-05-04T17:13:47.189650",
     "status": "completed"
    },
    "tags": []
   },
   "source": [
    "### Basic Parameter"
   ]
  },
  {
   "cell_type": "code",
   "execution_count": 1,
   "id": "7ae2994e",
   "metadata": {
    "execution": {
     "iopub.execute_input": "2025-05-04T17:13:47.195735Z",
     "iopub.status.busy": "2025-05-04T17:13:47.195211Z",
     "iopub.status.idle": "2025-05-04T17:13:47.200848Z",
     "shell.execute_reply": "2025-05-04T17:13:47.200415Z"
    },
    "papermill": {
     "duration": 0.008901,
     "end_time": "2025-05-04T17:13:47.201730",
     "exception": false,
     "start_time": "2025-05-04T17:13:47.192829",
     "status": "completed"
    },
    "tags": [
     "parameters"
    ]
   },
   "outputs": [],
   "source": [
    "# Parameters\n",
    "Input_Dir = 'data_raw_all'\n",
    "Output_Dir = 'data_resize_all'\n",
    "\n",
    "# Target image size\n",
    "target_size_x = 32\n",
    "target_size_y = 32"
   ]
  },
  {
   "cell_type": "code",
   "execution_count": 2,
   "id": "435a688f",
   "metadata": {
    "execution": {
     "iopub.execute_input": "2025-05-04T17:13:47.205611Z",
     "iopub.status.busy": "2025-05-04T17:13:47.205447Z",
     "iopub.status.idle": "2025-05-04T17:13:47.208080Z",
     "shell.execute_reply": "2025-05-04T17:13:47.207637Z"
    },
    "papermill": {
     "duration": 0.005496,
     "end_time": "2025-05-04T17:13:47.208915",
     "exception": false,
     "start_time": "2025-05-04T17:13:47.203419",
     "status": "completed"
    },
    "tags": [
     "injected-parameters"
    ]
   },
   "outputs": [],
   "source": [
    "# Parameters\n",
    "Input_Dir = \"data_raw_all\"\n",
    "Output_Dir = \"data_resize_all\"\n"
   ]
  },
  {
   "cell_type": "markdown",
   "id": "ba57e966",
   "metadata": {
    "papermill": {
     "duration": 0.001534,
     "end_time": "2025-05-04T17:13:47.212131",
     "exception": false,
     "start_time": "2025-05-04T17:13:47.210597",
     "status": "completed"
    },
    "tags": []
   },
   "source": [
    "### Load libraries and defaults"
   ]
  },
  {
   "cell_type": "code",
   "execution_count": 3,
   "id": "937f18e8",
   "metadata": {
    "execution": {
     "iopub.execute_input": "2025-05-04T17:13:47.216011Z",
     "iopub.status.busy": "2025-05-04T17:13:47.215848Z",
     "iopub.status.idle": "2025-05-04T17:13:47.246537Z",
     "shell.execute_reply": "2025-05-04T17:13:47.245948Z"
    },
    "papermill": {
     "duration": 0.033703,
     "end_time": "2025-05-04T17:13:47.247468",
     "exception": false,
     "start_time": "2025-05-04T17:13:47.213765",
     "status": "completed"
    },
    "tags": []
   },
   "outputs": [],
   "source": [
    "import glob\n",
    "import os\n",
    "from pathlib import Path\n",
    "\n",
    "from PIL import Image\n"
   ]
  },
  {
   "cell_type": "markdown",
   "id": "956612f8",
   "metadata": {
    "papermill": {
     "duration": 0.001589,
     "end_time": "2025-05-04T17:13:47.250753",
     "exception": false,
     "start_time": "2025-05-04T17:13:47.249164",
     "status": "completed"
    },
    "tags": []
   },
   "source": [
    "### Delete output directory"
   ]
  },
  {
   "cell_type": "code",
   "execution_count": 4,
   "id": "15e13317",
   "metadata": {
    "execution": {
     "iopub.execute_input": "2025-05-04T17:13:47.254617Z",
     "iopub.status.busy": "2025-05-04T17:13:47.254453Z",
     "iopub.status.idle": "2025-05-04T17:13:47.258208Z",
     "shell.execute_reply": "2025-05-04T17:13:47.257694Z"
    },
    "papermill": {
     "duration": 0.00661,
     "end_time": "2025-05-04T17:13:47.259022",
     "exception": false,
     "start_time": "2025-05-04T17:13:47.252412",
     "status": "completed"
    },
    "tags": []
   },
   "outputs": [
    {
     "name": "stdout",
     "output_type": "stream",
     "text": [
      "0 files have been deleted.\n"
     ]
    }
   ],
   "source": [
    "files = glob.glob(Output_Dir + '/*.jpg')\n",
    "for f in files:\n",
    "    os.remove(f)\n",
    "print(str(len(files)) + \" files have been deleted.\")"
   ]
  },
  {
   "cell_type": "markdown",
   "id": "7358bbef",
   "metadata": {
    "papermill": {
     "duration": 0.002482,
     "end_time": "2025-05-04T17:13:47.263323",
     "exception": false,
     "start_time": "2025-05-04T17:13:47.260841",
     "status": "completed"
    },
    "tags": []
   },
   "source": [
    "### Load files and resize"
   ]
  },
  {
   "cell_type": "code",
   "execution_count": 5,
   "id": "f3c7c7e8",
   "metadata": {
    "execution": {
     "iopub.execute_input": "2025-05-04T17:13:47.267405Z",
     "iopub.status.busy": "2025-05-04T17:13:47.267243Z",
     "iopub.status.idle": "2025-05-04T17:13:48.223741Z",
     "shell.execute_reply": "2025-05-04T17:13:48.223229Z"
    },
    "papermill": {
     "duration": 0.959543,
     "end_time": "2025-05-04T17:13:48.224606",
     "exception": false,
     "start_time": "2025-05-04T17:13:47.265063",
     "status": "completed"
    },
    "tags": []
   },
   "outputs": [
    {
     "name": "stdout",
     "output_type": "stream",
     "text": [
      "0 data_raw_all/5.6_1f48d6bd3fc40354b9253b4352c4c554.jpg\n"
     ]
    },
    {
     "name": "stdout",
     "output_type": "stream",
     "text": [
      "500 data_raw_all/6.6_32f8960168ad68dd0ce3eb6e9365fa1b.jpg\n"
     ]
    },
    {
     "name": "stdout",
     "output_type": "stream",
     "text": [
      "1000 data_raw_all/7.1.jpg\n"
     ]
    },
    {
     "name": "stdout",
     "output_type": "stream",
     "text": [
      "1500 data_raw_all/0.0_e0941e6e3c5bf5a31d46bc38cb65648f.jpg\n"
     ]
    }
   ],
   "source": [
    "import hashlib\n",
    "\n",
    "files = glob.glob(Input_Dir + '/*.jpg')\n",
    "hashes={}\n",
    "for i,aktfile in enumerate(files):\n",
    "    if i%500==0:\n",
    "        print(i, aktfile)\n",
    "    test_image = Image.open(aktfile)\n",
    "    hash=hashlib.sha256(test_image.tobytes()).hexdigest()\n",
    "    if hash in hashes:\n",
    "        hashes[hash].append(aktfile)\n",
    "    else:\n",
    "        hashes[hash]=[aktfile]\n",
    "    test_image = test_image.resize((target_size_x, target_size_y), Image.LANCZOS)\n",
    "    base=os.path.basename(aktfile)\n",
    "    save_name = Output_Dir + '/' + base\n",
    "    test_image.save(save_name, \"JPEG\", quality = 100)"
   ]
  },
  {
   "cell_type": "markdown",
   "id": "1435f281",
   "metadata": {
    "papermill": {
     "duration": 0.001839,
     "end_time": "2025-05-04T17:13:48.228692",
     "exception": false,
     "start_time": "2025-05-04T17:13:48.226853",
     "status": "completed"
    },
    "tags": []
   },
   "source": [
    "### Remove duplicate files"
   ]
  },
  {
   "cell_type": "code",
   "execution_count": 6,
   "id": "a946408c",
   "metadata": {
    "execution": {
     "iopub.execute_input": "2025-05-04T17:13:48.233461Z",
     "iopub.status.busy": "2025-05-04T17:13:48.233057Z",
     "iopub.status.idle": "2025-05-04T17:13:48.236574Z",
     "shell.execute_reply": "2025-05-04T17:13:48.236123Z"
    },
    "papermill": {
     "duration": 0.00683,
     "end_time": "2025-05-04T17:13:48.237428",
     "exception": false,
     "start_time": "2025-05-04T17:13:48.230598",
     "status": "completed"
    },
    "tags": []
   },
   "outputs": [],
   "source": [
    "# duplicate files are a risk to the metrics, they pollute the validation dataset\n",
    "for hash in hashes:\n",
    "    if len(hashes[hash])>1:\n",
    "        print(hashes[hash])    \n",
    "        for duplicate in hashes[hash][1:]:\n",
    "            # remove all except the first\n",
    "            os.remove(duplicate)    "
   ]
  }
 ],
 "metadata": {
  "kernelspec": {
   "display_name": "tflite2",
   "language": "python",
   "name": "python3"
  },
  "language_info": {
   "codemirror_mode": {
    "name": "ipython",
    "version": 3
   },
   "file_extension": ".py",
   "mimetype": "text/x-python",
   "name": "python",
   "nbconvert_exporter": "python",
   "pygments_lexer": "ipython3",
   "version": "3.11.12"
  },
  "papermill": {
   "default_parameters": {},
   "duration": 2.098931,
   "end_time": "2025-05-04T17:13:48.354325",
   "environment_variables": {},
   "exception": null,
   "input_path": "01_Image-Preparation.ipynb",
   "output_path": "models_tmp/01_Image-Preparation_result_v1700.ipynb",
   "parameters": {
    "Input_Dir": "data_raw_all",
    "Output_Dir": "data_resize_all"
   },
   "start_time": "2025-05-04T17:13:46.255394",
   "version": "2.6.0"
  }
 },
 "nbformat": 4,
 "nbformat_minor": 5
}