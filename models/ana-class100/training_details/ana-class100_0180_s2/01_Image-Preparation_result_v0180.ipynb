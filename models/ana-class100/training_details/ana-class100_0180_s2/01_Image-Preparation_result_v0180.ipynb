{
 "cells": [
  {
   "cell_type": "markdown",
   "id": "5f669226",
   "metadata": {
    "papermill": {
     "duration": 0.00204,
     "end_time": "2025-05-09T12:08:15.434191",
     "exception": false,
     "start_time": "2025-05-09T12:08:15.432151",
     "status": "completed"
    },
    "tags": []
   },
   "source": [
    "## Image preparation\n",
    "\n",
    "The below code can be used to transform the images in an input directory (Input_Dir) \n",
    "to the right size (e.g. 32x32 pixels) into an output directory (Output_Dir).\n",
    "\n",
    "### Note\n",
    "Duplicates will be removed by evaluating the file hash"
   ]
  },
  {
   "cell_type": "markdown",
   "id": "b818e8ab",
   "metadata": {
    "papermill": {
     "duration": 0.001421,
     "end_time": "2025-05-09T12:08:15.437408",
     "exception": false,
     "start_time": "2025-05-09T12:08:15.435987",
     "status": "completed"
    },
    "tags": []
   },
   "source": [
    "### Basic Parameter"
   ]
  },
  {
   "cell_type": "code",
   "execution_count": 1,
   "id": "74b6e3f1",
   "metadata": {
    "execution": {
     "iopub.execute_input": "2025-05-09T12:08:15.441264Z",
     "iopub.status.busy": "2025-05-09T12:08:15.440962Z",
     "iopub.status.idle": "2025-05-09T12:08:15.446246Z",
     "shell.execute_reply": "2025-05-09T12:08:15.445672Z"
    },
    "papermill": {
     "duration": 0.008213,
     "end_time": "2025-05-09T12:08:15.447165",
     "exception": false,
     "start_time": "2025-05-09T12:08:15.438952",
     "status": "completed"
    },
    "tags": [
     "parameters"
    ]
   },
   "outputs": [],
   "source": [
    "# Parameters\n",
    "Input_Dir = 'data_raw_all'\n",
    "Output_Dir = 'data_resize_all'\n",
    "\n",
    "# Target image size\n",
    "target_size_x = 32\n",
    "target_size_y = 32"
   ]
  },
  {
   "cell_type": "code",
   "execution_count": 2,
   "id": "8356f464",
   "metadata": {
    "execution": {
     "iopub.execute_input": "2025-05-09T12:08:15.451057Z",
     "iopub.status.busy": "2025-05-09T12:08:15.450747Z",
     "iopub.status.idle": "2025-05-09T12:08:15.453409Z",
     "shell.execute_reply": "2025-05-09T12:08:15.452912Z"
    },
    "papermill": {
     "duration": 0.005503,
     "end_time": "2025-05-09T12:08:15.454291",
     "exception": false,
     "start_time": "2025-05-09T12:08:15.448788",
     "status": "completed"
    },
    "tags": [
     "injected-parameters"
    ]
   },
   "outputs": [],
   "source": [
    "# Parameters\n",
    "Input_Dir = \"data_raw_all\"\n",
    "Output_Dir = \"data_resize_all\"\n"
   ]
  },
  {
   "cell_type": "markdown",
   "id": "6e9c8785",
   "metadata": {
    "papermill": {
     "duration": 0.00151,
     "end_time": "2025-05-09T12:08:15.457417",
     "exception": false,
     "start_time": "2025-05-09T12:08:15.455907",
     "status": "completed"
    },
    "tags": []
   },
   "source": [
    "### Load libraries and defaults"
   ]
  },
  {
   "cell_type": "code",
   "execution_count": 3,
   "id": "bf990ddf",
   "metadata": {
    "execution": {
     "iopub.execute_input": "2025-05-09T12:08:15.461341Z",
     "iopub.status.busy": "2025-05-09T12:08:15.461008Z",
     "iopub.status.idle": "2025-05-09T12:08:15.583950Z",
     "shell.execute_reply": "2025-05-09T12:08:15.583368Z"
    },
    "papermill": {
     "duration": 0.125971,
     "end_time": "2025-05-09T12:08:15.584957",
     "exception": false,
     "start_time": "2025-05-09T12:08:15.458986",
     "status": "completed"
    },
    "tags": []
   },
   "outputs": [],
   "source": [
    "import glob\n",
    "import os\n",
    "from pathlib import Path\n",
    "\n",
    "from PIL import Image\n"
   ]
  },
  {
   "cell_type": "markdown",
   "id": "ba2c3276",
   "metadata": {
    "papermill": {
     "duration": 0.001489,
     "end_time": "2025-05-09T12:08:15.588271",
     "exception": false,
     "start_time": "2025-05-09T12:08:15.586782",
     "status": "completed"
    },
    "tags": []
   },
   "source": [
    "### Delete output directory"
   ]
  },
  {
   "cell_type": "code",
   "execution_count": 4,
   "id": "9e16df16",
   "metadata": {
    "execution": {
     "iopub.execute_input": "2025-05-09T12:08:15.592360Z",
     "iopub.status.busy": "2025-05-09T12:08:15.591890Z",
     "iopub.status.idle": "2025-05-09T12:08:15.595881Z",
     "shell.execute_reply": "2025-05-09T12:08:15.595414Z"
    },
    "papermill": {
     "duration": 0.006832,
     "end_time": "2025-05-09T12:08:15.596686",
     "exception": false,
     "start_time": "2025-05-09T12:08:15.589854",
     "status": "completed"
    },
    "tags": []
   },
   "outputs": [
    {
     "name": "stdout",
     "output_type": "stream",
     "text": [
      "0 files have been deleted.\n"
     ]
    }
   ],
   "source": [
    "files = glob.glob(Output_Dir + '/*.jpg')\n",
    "for f in files:\n",
    "    os.remove(f)\n",
    "print(str(len(files)) + \" files have been deleted.\")"
   ]
  },
  {
   "cell_type": "markdown",
   "id": "a595c47a",
   "metadata": {
    "papermill": {
     "duration": 0.00238,
     "end_time": "2025-05-09T12:08:15.600861",
     "exception": false,
     "start_time": "2025-05-09T12:08:15.598481",
     "status": "completed"
    },
    "tags": []
   },
   "source": [
    "### Load files and resize"
   ]
  },
  {
   "cell_type": "code",
   "execution_count": 5,
   "id": "4c77f8c7",
   "metadata": {
    "execution": {
     "iopub.execute_input": "2025-05-09T12:08:15.605128Z",
     "iopub.status.busy": "2025-05-09T12:08:15.604609Z",
     "iopub.status.idle": "2025-05-09T12:08:16.567215Z",
     "shell.execute_reply": "2025-05-09T12:08:16.566675Z"
    },
    "papermill": {
     "duration": 0.96553,
     "end_time": "2025-05-09T12:08:16.568054",
     "exception": false,
     "start_time": "2025-05-09T12:08:15.602524",
     "status": "completed"
    },
    "tags": []
   },
   "outputs": [
    {
     "name": "stdout",
     "output_type": "stream",
     "text": [
      "0 data_raw_all/5.6_1f48d6bd3fc40354b9253b4352c4c554.jpg\n"
     ]
    },
    {
     "name": "stdout",
     "output_type": "stream",
     "text": [
      "500 data_raw_all/6.7_527cbc933b9fc8e35443efd1281f6f5b.jpg\n"
     ]
    },
    {
     "name": "stdout",
     "output_type": "stream",
     "text": [
      "1000 data_raw_all/3.8_1884_zeiger4_2019-06-04T110009.jpg\n"
     ]
    },
    {
     "name": "stdout",
     "output_type": "stream",
     "text": [
      "1500 data_raw_all/5.4_4c1d5a2bea926c9966e2182d97be68fe.jpg\n"
     ]
    }
   ],
   "source": [
    "import hashlib\n",
    "\n",
    "files = glob.glob(Input_Dir + '/*.jpg')\n",
    "hashes={}\n",
    "for i,aktfile in enumerate(files):\n",
    "    if i%500==0:\n",
    "        print(i, aktfile)\n",
    "    test_image = Image.open(aktfile)\n",
    "    hash=hashlib.sha256(test_image.tobytes()).hexdigest()\n",
    "    if hash in hashes:\n",
    "        hashes[hash].append(aktfile)\n",
    "    else:\n",
    "        hashes[hash]=[aktfile]\n",
    "    test_image = test_image.resize((target_size_x, target_size_y), Image.LANCZOS)\n",
    "    base=os.path.basename(aktfile)\n",
    "    save_name = Output_Dir + '/' + base\n",
    "    test_image.save(save_name, \"JPEG\", quality = 100)"
   ]
  },
  {
   "cell_type": "markdown",
   "id": "70d95205",
   "metadata": {
    "papermill": {
     "duration": 0.001732,
     "end_time": "2025-05-09T12:08:16.572009",
     "exception": false,
     "start_time": "2025-05-09T12:08:16.570277",
     "status": "completed"
    },
    "tags": []
   },
   "source": [
    "### Remove duplicate files"
   ]
  },
  {
   "cell_type": "code",
   "execution_count": 6,
   "id": "09e31773",
   "metadata": {
    "execution": {
     "iopub.execute_input": "2025-05-09T12:08:16.576380Z",
     "iopub.status.busy": "2025-05-09T12:08:16.576216Z",
     "iopub.status.idle": "2025-05-09T12:08:16.579727Z",
     "shell.execute_reply": "2025-05-09T12:08:16.579168Z"
    },
    "papermill": {
     "duration": 0.006794,
     "end_time": "2025-05-09T12:08:16.580632",
     "exception": false,
     "start_time": "2025-05-09T12:08:16.573838",
     "status": "completed"
    },
    "tags": []
   },
   "outputs": [],
   "source": [
    "# duplicate files are a risk to the metrics, they pollute the validation dataset\n",
    "for hash in hashes:\n",
    "    if len(hashes[hash])>1:\n",
    "        print(hashes[hash])    \n",
    "        for duplicate in hashes[hash][1:]:\n",
    "            # remove all except the first\n",
    "            os.remove(duplicate)    "
   ]
  }
 ],
 "metadata": {
  "kernelspec": {
   "display_name": "tflite2",
   "language": "python",
   "name": "python3"
  },
  "language_info": {
   "codemirror_mode": {
    "name": "ipython",
    "version": 3
   },
   "file_extension": ".py",
   "mimetype": "text/x-python",
   "name": "python",
   "nbconvert_exporter": "python",
   "pygments_lexer": "ipython3",
   "version": "3.11.12"
  },
  "papermill": {
   "default_parameters": {},
   "duration": 3.332039,
   "end_time": "2025-05-09T12:08:16.697194",
   "environment_variables": {},
   "exception": null,
   "input_path": "01_Image-Preparation.ipynb",
   "output_path": "models_tmp/01_Image-Preparation_result_v0180.ipynb",
   "parameters": {
    "Input_Dir": "data_raw_all",
    "Output_Dir": "data_resize_all"
   },
   "start_time": "2025-05-09T12:08:13.365155",
   "version": "2.6.0"
  }
 },
 "nbformat": 4,
 "nbformat_minor": 5
}