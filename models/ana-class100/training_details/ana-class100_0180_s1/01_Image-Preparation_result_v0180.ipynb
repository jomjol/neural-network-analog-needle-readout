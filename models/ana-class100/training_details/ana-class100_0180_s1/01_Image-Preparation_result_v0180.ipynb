{
 "cells": [
  {
   "cell_type": "markdown",
   "id": "fc14567c",
   "metadata": {
    "papermill": {
     "duration": 0.002171,
     "end_time": "2025-05-09T10:19:52.026694",
     "exception": false,
     "start_time": "2025-05-09T10:19:52.024523",
     "status": "completed"
    },
    "tags": []
   },
   "source": [
    "## Image preparation\n",
    "\n",
    "The below code can be used to transform the images in an input directory (Input_Dir) \n",
    "to the right size (e.g. 32x32 pixels) into an output directory (Output_Dir).\n",
    "\n",
    "### Note\n",
    "Duplicates will be removed by evaluating the file hash"
   ]
  },
  {
   "cell_type": "markdown",
   "id": "81e304b3",
   "metadata": {
    "papermill": {
     "duration": 0.001424,
     "end_time": "2025-05-09T10:19:52.029965",
     "exception": false,
     "start_time": "2025-05-09T10:19:52.028541",
     "status": "completed"
    },
    "tags": []
   },
   "source": [
    "### Basic Parameter"
   ]
  },
  {
   "cell_type": "code",
   "execution_count": 1,
   "id": "8708392d",
   "metadata": {
    "execution": {
     "iopub.execute_input": "2025-05-09T10:19:52.034378Z",
     "iopub.status.busy": "2025-05-09T10:19:52.033991Z",
     "iopub.status.idle": "2025-05-09T10:19:52.039584Z",
     "shell.execute_reply": "2025-05-09T10:19:52.039020Z"
    },
    "papermill": {
     "duration": 0.008977,
     "end_time": "2025-05-09T10:19:52.040496",
     "exception": false,
     "start_time": "2025-05-09T10:19:52.031519",
     "status": "completed"
    },
    "tags": [
     "parameters"
    ]
   },
   "outputs": [],
   "source": [
    "# Parameters\n",
    "Input_Dir = 'data_raw_all'\n",
    "Output_Dir = 'data_resize_all'\n",
    "\n",
    "# Target image size\n",
    "target_size_x = 32\n",
    "target_size_y = 32"
   ]
  },
  {
   "cell_type": "code",
   "execution_count": 2,
   "id": "2bbb475f",
   "metadata": {
    "execution": {
     "iopub.execute_input": "2025-05-09T10:19:52.044500Z",
     "iopub.status.busy": "2025-05-09T10:19:52.044167Z",
     "iopub.status.idle": "2025-05-09T10:19:52.046897Z",
     "shell.execute_reply": "2025-05-09T10:19:52.046367Z"
    },
    "papermill": {
     "duration": 0.005531,
     "end_time": "2025-05-09T10:19:52.047679",
     "exception": false,
     "start_time": "2025-05-09T10:19:52.042148",
     "status": "completed"
    },
    "tags": [
     "injected-parameters"
    ]
   },
   "outputs": [],
   "source": [
    "# Parameters\n",
    "Input_Dir = \"data_raw_all\"\n",
    "Output_Dir = \"data_resize_all\"\n"
   ]
  },
  {
   "cell_type": "markdown",
   "id": "63ba1f5c",
   "metadata": {
    "papermill": {
     "duration": 0.001493,
     "end_time": "2025-05-09T10:19:52.050815",
     "exception": false,
     "start_time": "2025-05-09T10:19:52.049322",
     "status": "completed"
    },
    "tags": []
   },
   "source": [
    "### Load libraries and defaults"
   ]
  },
  {
   "cell_type": "code",
   "execution_count": 3,
   "id": "da31f7be",
   "metadata": {
    "execution": {
     "iopub.execute_input": "2025-05-09T10:19:52.054805Z",
     "iopub.status.busy": "2025-05-09T10:19:52.054461Z",
     "iopub.status.idle": "2025-05-09T10:19:52.115728Z",
     "shell.execute_reply": "2025-05-09T10:19:52.115276Z"
    },
    "papermill": {
     "duration": 0.064433,
     "end_time": "2025-05-09T10:19:52.116836",
     "exception": false,
     "start_time": "2025-05-09T10:19:52.052403",
     "status": "completed"
    },
    "tags": []
   },
   "outputs": [],
   "source": [
    "import glob\n",
    "import os\n",
    "from pathlib import Path\n",
    "\n",
    "from PIL import Image\n"
   ]
  },
  {
   "cell_type": "markdown",
   "id": "71a9b10b",
   "metadata": {
    "papermill": {
     "duration": 0.00151,
     "end_time": "2025-05-09T10:19:52.120176",
     "exception": false,
     "start_time": "2025-05-09T10:19:52.118666",
     "status": "completed"
    },
    "tags": []
   },
   "source": [
    "### Delete output directory"
   ]
  },
  {
   "cell_type": "code",
   "execution_count": 4,
   "id": "e2be7ec4",
   "metadata": {
    "execution": {
     "iopub.execute_input": "2025-05-09T10:19:52.124234Z",
     "iopub.status.busy": "2025-05-09T10:19:52.123886Z",
     "iopub.status.idle": "2025-05-09T10:19:52.127634Z",
     "shell.execute_reply": "2025-05-09T10:19:52.127103Z"
    },
    "papermill": {
     "duration": 0.006752,
     "end_time": "2025-05-09T10:19:52.128541",
     "exception": false,
     "start_time": "2025-05-09T10:19:52.121789",
     "status": "completed"
    },
    "tags": []
   },
   "outputs": [
    {
     "name": "stdout",
     "output_type": "stream",
     "text": [
      "0 files have been deleted.\n"
     ]
    }
   ],
   "source": [
    "files = glob.glob(Output_Dir + '/*.jpg')\n",
    "for f in files:\n",
    "    os.remove(f)\n",
    "print(str(len(files)) + \" files have been deleted.\")"
   ]
  },
  {
   "cell_type": "markdown",
   "id": "6f569da9",
   "metadata": {
    "papermill": {
     "duration": 0.002439,
     "end_time": "2025-05-09T10:19:52.132869",
     "exception": false,
     "start_time": "2025-05-09T10:19:52.130430",
     "status": "completed"
    },
    "tags": []
   },
   "source": [
    "### Load files and resize"
   ]
  },
  {
   "cell_type": "code",
   "execution_count": 5,
   "id": "41d0e592",
   "metadata": {
    "execution": {
     "iopub.execute_input": "2025-05-09T10:19:52.136916Z",
     "iopub.status.busy": "2025-05-09T10:19:52.136690Z",
     "iopub.status.idle": "2025-05-09T10:19:53.098320Z",
     "shell.execute_reply": "2025-05-09T10:19:53.097802Z"
    },
    "papermill": {
     "duration": 0.964683,
     "end_time": "2025-05-09T10:19:53.099225",
     "exception": false,
     "start_time": "2025-05-09T10:19:52.134542",
     "status": "completed"
    },
    "tags": []
   },
   "outputs": [
    {
     "name": "stdout",
     "output_type": "stream",
     "text": [
      "0 data_raw_all/5.6_1f48d6bd3fc40354b9253b4352c4c554.jpg\n"
     ]
    },
    {
     "name": "stdout",
     "output_type": "stream",
     "text": [
      "500 data_raw_all/6.7_527cbc933b9fc8e35443efd1281f6f5b.jpg\n"
     ]
    },
    {
     "name": "stdout",
     "output_type": "stream",
     "text": [
      "1000 data_raw_all/3.8_1884_zeiger4_2019-06-04T110009.jpg\n"
     ]
    },
    {
     "name": "stdout",
     "output_type": "stream",
     "text": [
      "1500 data_raw_all/5.4_4c1d5a2bea926c9966e2182d97be68fe.jpg\n"
     ]
    }
   ],
   "source": [
    "import hashlib\n",
    "\n",
    "files = glob.glob(Input_Dir + '/*.jpg')\n",
    "hashes={}\n",
    "for i,aktfile in enumerate(files):\n",
    "    if i%500==0:\n",
    "        print(i, aktfile)\n",
    "    test_image = Image.open(aktfile)\n",
    "    hash=hashlib.sha256(test_image.tobytes()).hexdigest()\n",
    "    if hash in hashes:\n",
    "        hashes[hash].append(aktfile)\n",
    "    else:\n",
    "        hashes[hash]=[aktfile]\n",
    "    test_image = test_image.resize((target_size_x, target_size_y), Image.LANCZOS)\n",
    "    base=os.path.basename(aktfile)\n",
    "    save_name = Output_Dir + '/' + base\n",
    "    test_image.save(save_name, \"JPEG\", quality = 100)"
   ]
  },
  {
   "cell_type": "markdown",
   "id": "1c9380d8",
   "metadata": {
    "papermill": {
     "duration": 0.001856,
     "end_time": "2025-05-09T10:19:53.103178",
     "exception": false,
     "start_time": "2025-05-09T10:19:53.101322",
     "status": "completed"
    },
    "tags": []
   },
   "source": [
    "### Remove duplicate files"
   ]
  },
  {
   "cell_type": "code",
   "execution_count": 6,
   "id": "56e7e261",
   "metadata": {
    "execution": {
     "iopub.execute_input": "2025-05-09T10:19:53.107970Z",
     "iopub.status.busy": "2025-05-09T10:19:53.107567Z",
     "iopub.status.idle": "2025-05-09T10:19:53.111212Z",
     "shell.execute_reply": "2025-05-09T10:19:53.110642Z"
    },
    "papermill": {
     "duration": 0.006967,
     "end_time": "2025-05-09T10:19:53.112039",
     "exception": false,
     "start_time": "2025-05-09T10:19:53.105072",
     "status": "completed"
    },
    "tags": []
   },
   "outputs": [],
   "source": [
    "# duplicate files are a risk to the metrics, they pollute the validation dataset\n",
    "for hash in hashes:\n",
    "    if len(hashes[hash])>1:\n",
    "        print(hashes[hash])    \n",
    "        for duplicate in hashes[hash][1:]:\n",
    "            # remove all except the first\n",
    "            os.remove(duplicate)    "
   ]
  }
 ],
 "metadata": {
  "kernelspec": {
   "display_name": "tflite2",
   "language": "python",
   "name": "python3"
  },
  "language_info": {
   "codemirror_mode": {
    "name": "ipython",
    "version": 3
   },
   "file_extension": ".py",
   "mimetype": "text/x-python",
   "name": "python",
   "nbconvert_exporter": "python",
   "pygments_lexer": "ipython3",
   "version": "3.11.12"
  },
  "papermill": {
   "default_parameters": {},
   "duration": 2.493059,
   "end_time": "2025-05-09T10:19:53.328497",
   "environment_variables": {},
   "exception": null,
   "input_path": "01_Image-Preparation.ipynb",
   "output_path": "models_tmp/01_Image-Preparation_result_v0180.ipynb",
   "parameters": {
    "Input_Dir": "data_raw_all",
    "Output_Dir": "data_resize_all"
   },
   "start_time": "2025-05-09T10:19:50.835438",
   "version": "2.6.0"
  }
 },
 "nbformat": 4,
 "nbformat_minor": 5
}