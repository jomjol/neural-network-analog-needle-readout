{
 "cells": [
  {
   "cell_type": "markdown",
   "metadata": {},
   "source": [
    "## Compare models"
   ]
  },
  {
   "cell_type": "markdown",
   "metadata": {},
   "source": [
    "### Basic Parameter"
   ]
  },
  {
   "cell_type": "code",
   "execution_count": null,
   "metadata": {
    "tags": [
     "parameters"
    ]
   },
   "outputs": [],
   "source": [
    "Input_Dir  = 'data_raw_all'\n",
    "Output_Dir = 'models'\n",
    "Save_Evaluation_Images = False\n",
    "\n",
    "Input_Shape = (32,32,3)\n",
    "\n",
    "# Validation size\n",
    "# Note: 0.0 = 0% validation size, use all images for training\n",
    "Validation_Percentage = 0.2"
   ]
  },
  {
   "cell_type": "markdown",
   "metadata": {},
   "source": [
    "### Load libraries and defaults"
   ]
  },
  {
   "cell_type": "code",
   "execution_count": null,
   "metadata": {
    "scrolled": true
   },
   "outputs": [],
   "source": [
    "import os\n",
    "import glob\n",
    "from pathlib import Path\n",
    "import math\n",
    "import matplotlib.pyplot as plt\n",
    "import numpy as np\n",
    "import pandas as pd\n",
    "\n",
    "from PIL import Image \n",
    "\n",
    "from tensorflow import keras\n",
    "import tensorflow as tf\n",
    "\n",
    "from sklearn.model_selection import train_test_split\n",
    "from sklearn.utils import shuffle\n",
    "\n",
    "\n",
    "%matplotlib inline\n",
    "np.set_printoptions(precision=4)\n",
    "np.set_printoptions(suppress=True)"
   ]
  },
  {
   "cell_type": "markdown",
   "metadata": {},
   "source": [
    "### Load files"
   ]
  },
  {
   "cell_type": "code",
   "execution_count": null,
   "metadata": {},
   "outputs": [],
   "source": [
    "files = glob.glob(Input_Dir + '/*.jpg')\n",
    "y_data = np.empty((len(files)))\n",
    "f_data = np.empty((len(files)), dtype=\"<U250\")\n",
    "x_data = np.empty((len(files),Input_Shape[0],Input_Shape[1],Input_Shape[2]))\n",
    "\n",
    "for i, aktfile in enumerate(files):\n",
    "    base = os.path.basename(aktfile)\n",
    "\n",
    "    # get label from filename (1.2_ new or 1_ old),\n",
    "    if (base[1]==\".\"):\n",
    "        target = base[0:3]\n",
    "    else:\n",
    "        target = base[0:1]\n",
    "    category = float(target)\n",
    "    \n",
    "    test_image = Image.open(aktfile).resize((Input_Shape[0],Input_Shape[1]), Image.Resampling.LANCZOS)\n",
    "    test_image = np.array(test_image, dtype=\"float32\")\n",
    "    f_data[i] =  aktfile\n",
    "    x_data[i] = test_image\n",
    "    y_data[i] =  category\n",
    "print(\"Data count: \", len(y_data))  \n",
    "print(x_data.shape)\n",
    "\n",
    "x_data, y_data, f_data = shuffle(x_data, y_data, f_data)\n",
    "X_train, X_test, y_train, y_test = train_test_split(x_data, y_data, test_size=Validation_Percentage)\n",
    "y_train = keras.utils.to_categorical(y_train*10, 100)\n",
    "y_test = keras.utils.to_categorical(y_test*10, 100)\n",
    "\n",
    "print(np.expand_dims(y_data, axis=1).shape)"
   ]
  },
  {
   "cell_type": "markdown",
   "metadata": {},
   "source": [
    "### Helper functions"
   ]
  },
  {
   "cell_type": "code",
   "execution_count": null,
   "metadata": {},
   "outputs": [],
   "source": [
    "def plot_dataset(images, labels, columns=10, rows=5, figsize=(18, 10)):\n",
    "\n",
    "    fig = plt.figure(figsize=figsize)\n",
    "    \n",
    "    for i in range(1, columns*rows +1):\n",
    "        if (i>len(labels)):\n",
    "            break\n",
    "        fig.add_subplot(rows, columns, i)\n",
    "        plt.title(labels[i-1])  # set title\n",
    "        plt.imshow((images[i-1]).astype(np.uint8), aspect='1', extent=[0, 1, 0, 1])\n",
    "        # yellow lines\n",
    "        ax=plt.gca()\n",
    "        ax.get_yaxis().set_visible(False) \n",
    "        ax.get_xaxis().set_visible(False) \n",
    "        \n",
    "        plt.tight_layout()\n",
    "    plt.show()\n",
    "\n",
    "\n",
    "def plot_divergence(divergationset, title1, filename=None):\n",
    "    fig = plt.figure(figsize=(40, 10))\n",
    "    fig.suptitle(title1, fontsize=28)\n",
    "    plt.bar(np.arange(0, len(divergationset)/10, 0.1), divergationset, width=0.09, align='center')\n",
    "    plt.ylabel('Count')\n",
    "    plt.xlabel('Deviation')\n",
    "    plt.xticks(np.arange(0, len(divergationset)/10, 0.1))\n",
    "    plt.show()\n",
    "    \n",
    "    # Save plot\n",
    "    if filename:\n",
    "        fig.savefig(filename, bbox_inches='tight')\n",
    "    \n",
    "    return fig\n",
    "\n",
    "\n",
    "def evaluate_ziffer_tflite(model_path, x_data, y_data, f_data, title, max_delta = 0.11, save_images=False):\n",
    "    false_images = []\n",
    "    false_labels = []\n",
    "    false_predicted = []\n",
    "\n",
    "    # we use the tflite model\n",
    "    interpreter = tf.lite.Interpreter(model_path=model_path)\n",
    "    interpreter.allocate_tensors()\n",
    "    input_index = interpreter.get_input_details()[0][\"index\"]\n",
    "    output_index = interpreter.get_output_details()[0][\"index\"]\n",
    "    # ignore models with other shape than 32,32,3\n",
    "    if ((interpreter.get_input_details()[0][\"shape\"] != (1, 32, 32, 3)).any()):\n",
    "        return\n",
    "\n",
    "\n",
    "    for x, y, f in zip(x_data, y_data, f_data):\n",
    "        \n",
    "        interpreter.set_tensor(input_index, np.expand_dims(x.astype(np.float32), axis=0))\n",
    "        # Run inference.\n",
    "        interpreter.invoke()\n",
    "        # Post-processing: remove batch dimension and find the digit with highest\n",
    "        # probability.\n",
    "        output = interpreter.get_tensor(output_index)\n",
    "        if (len(output[0])==2):\n",
    "            out_sin = output[0][0]  \n",
    "            out_cos = output[0][1]\n",
    "            prediction = np.round(((np.arctan2(out_sin, out_cos)/(2*math.pi)) % 1)*10,1)\n",
    "        else:\n",
    "            prediction = (np.argmax(output, axis=1).reshape(-1)/10)[0]\n",
    "\n",
    "        difference = np.round(min(abs(prediction-y), abs(prediction-(10-y)))*10)/10\n",
    "        if difference > max_delta:\n",
    "            false_images.append(x)\n",
    "            false_labels.append( \"Expected: \" + str(y) + \"\\n Predicted: \" + str(prediction) + \"\\n\" + str(f)[-28:-5])\n",
    "            false_predicted.append(difference)\n",
    "            #print(prediction, y, difference)\n",
    "    \n",
    "    accuracy = \"{:.2f}%\".format((1-len(false_labels)/len(y_data))*100)\n",
    "    title = f\"Model: {os.path.basename(model_path)}  |  Images: {len(y_data)}\\nAccuracy: {accuracy} (False Predicted: {len(false_labels)}) With Accepted Deviation: {max_delta}\"\n",
    "    \n",
    "    if save_images:\n",
    "        filename = os.path.join(Output_Dir, os.path.basename(model_path) + \".png\")\n",
    "    else:\n",
    "        filename = None\n",
    "        \n",
    "    # plot the differences (max difference can only be 5.0)\n",
    "    plot_divergence(np.bincount(np.array(np.array(false_predicted)*10).astype(int), minlength=51), title, filename)\n",
    "\n",
    "    # plot the false predicted images\n",
    "    #plot_dataset(np.array(false_images), false_labels, columns=7, rows=7, figsize=(18,18))"
   ]
  },
  {
   "cell_type": "markdown",
   "metadata": {},
   "source": [
    "### Evaluate Accuracy (Accepted Deviation: 0.1)"
   ]
  },
  {
   "cell_type": "code",
   "execution_count": null,
   "metadata": {},
   "outputs": [],
   "source": [
    "modelfiles = sorted(glob.glob('models/ana-class100/*.tflite')) + sorted(glob.glob('models/ana-cont/*.tflite')) + sorted(glob.glob('models_tmp/*.tflite'))\n",
    "\n",
    "for modelfile in modelfiles:\n",
    "    evaluate_ziffer_tflite(modelfile, x_data, y_data, f_data, title=modelfile, max_delta=0.1, save_images=Save_Evaluation_Images)\n",
    "    print(f\" \")\n",
    "    print(f\" \")\n",
    "    "
   ]
  },
  {
   "cell_type": "markdown",
   "metadata": {},
   "source": [
    "### Evaluate Accuracy (Accepted Deviation: 0.0)"
   ]
  },
  {
   "cell_type": "code",
   "execution_count": null,
   "metadata": {},
   "outputs": [],
   "source": [
    "for modelfile in modelfiles:\n",
    "    evaluate_ziffer_tflite(modelfile, x_data, y_data, f_data, title=modelfile, max_delta=0.0)\n",
    "    print(f\" \")\n",
    "    print(f\" \")"
   ]
  }
 ],
 "metadata": {
  "kernelspec": {
   "display_name": "tflite2",
   "language": "python",
   "name": "python3"
  },
  "language_info": {
   "codemirror_mode": {
    "name": "ipython",
    "version": 3
   },
   "file_extension": ".py",
   "mimetype": "text/x-python",
   "name": "python",
   "nbconvert_exporter": "python",
   "pygments_lexer": "ipython3",
   "version": "3.10.16"
  }
 },
 "nbformat": 4,
 "nbformat_minor": 4
}
